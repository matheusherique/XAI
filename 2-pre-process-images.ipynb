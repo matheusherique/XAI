{
 "metadata": {
  "language_info": {
   "codemirror_mode": {
    "name": "ipython",
    "version": 3
   },
   "file_extension": ".py",
   "mimetype": "text/x-python",
   "name": "python",
   "nbconvert_exporter": "python",
   "pygments_lexer": "ipython3",
   "version": "3.8.6-final"
  },
  "orig_nbformat": 2,
  "kernelspec": {
   "name": "python3",
   "display_name": "Python 3.8.6 64-bit",
   "metadata": {
    "interpreter": {
     "hash": "31f2aee4e71d21fbe5cf8b01ff0e069b9275f58929596ceb00d14d90e3e16cd6"
    }
   }
  }
 },
 "nbformat": 4,
 "nbformat_minor": 2,
 "cells": [
  {
   "cell_type": "code",
   "execution_count": 1,
   "metadata": {},
   "outputs": [],
   "source": [
    "import os, sys\n",
    "from PIL import Image\n",
    "\n",
    "path=\"dataset/\"\n",
    "output_path=\"dataset-pre-process/\"\n",
    "dirs = os.listdir(path)\n",
    "i = 0\n",
    "for sub_dir in dirs:\n",
    "    for item in os.listdir(path + sub_dir):\n",
    "        if os.path.isfile(path + sub_dir + '/' + item):\n",
    "            im = Image.open(path + sub_dir + '/' + item)\n",
    "            f, e = os.path.splitext(path + sub_dir + '/' + item)\n",
    "            imResize = im.resize((448,448), Image.ANTIALIAS)\n",
    "            rgb_im = imResize.convert('RGB')\n",
    "            if not os.path.exists(output_path):\n",
    "                os.mkdir(output_path)\n",
    "            if not os.path.exists(output_path + sub_dir):\n",
    "                os.mkdir(output_path + sub_dir) \n",
    "            rgb_im.save(output_path + sub_dir + '/' + str(i) + '.jpg', 'JPEG', quality=90)\n",
    "            i = i + 1"
   ]
  },
  {
   "cell_type": "code",
   "execution_count": null,
   "metadata": {},
   "outputs": [],
   "source": []
  }
 ]
}