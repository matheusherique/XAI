{
 "metadata": {
  "language_info": {
   "codemirror_mode": {
    "name": "ipython",
    "version": 3
   },
   "file_extension": ".py",
   "mimetype": "text/x-python",
   "name": "python",
   "nbconvert_exporter": "python",
   "pygments_lexer": "ipython3",
   "version": 3
  },
  "orig_nbformat": 2
 },
 "nbformat": 4,
 "nbformat_minor": 2,
 "cells": [
  {
   "cell_type": "code",
   "execution_count": null,
   "metadata": {},
   "outputs": [],
   "source": [
    "!pip install split-folders\n",
    "\n",
    "import splitfolders\n"
   ]
  },
  {
   "cell_type": "code",
   "execution_count": null,
   "metadata": {},
   "outputs": [],
   "source": [
    "lesions = [\"Basal Cell Carcinoma\", \n",
    "    \"Lentigo\",\n",
    "    \"Malignant Melanoma\", \n",
    "    \"Melanocytic naevus\",\n",
    "    \"seborrhoeic keratosis\",\n",
    "    \"Wart\", \n",
    "    \"Actinic Keratosis\",\n",
    "    \"Squamous Cell Carcinoma\",\n",
    "    \"Intraepithelial Carcinoma\", \n",
    "    \"Pyogenic Granuloma\",\n",
    "    \"Haemangioma\",\n",
    "    \"Dermatofibroma\"\n",
    "    ]"
   ]
  },
  {
   "cell_type": "code",
   "execution_count": null,
   "metadata": {},
   "outputs": [],
   "source": [
    "splitfolders.ratio(\"./dataset-pre-process/\", output=\"./dataset-split/\", seed=1337, ratio=(.8, .1, .1))\n",
    "for lesion in lesions:\n",
    "    splitfolders.ratio(\"./dataset-pre-process/\" + lesion , output=\"./dataset-split/\", seed=1337, ratio=(.8, .1, .1))"
   ]
  }
 ]
}