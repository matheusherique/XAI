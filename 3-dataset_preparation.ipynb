{
 "metadata": {
  "language_info": {
   "codemirror_mode": {
    "name": "ipython",
    "version": 3
   },
   "file_extension": ".py",
   "mimetype": "text/x-python",
   "name": "python",
   "nbconvert_exporter": "python",
   "pygments_lexer": "ipython3",
   "version": "3.8.6-final"
  },
  "orig_nbformat": 2,
  "kernelspec": {
   "name": "python3",
   "display_name": "Python 3.8.6 64-bit",
   "metadata": {
    "interpreter": {
     "hash": "31f2aee4e71d21fbe5cf8b01ff0e069b9275f58929596ceb00d14d90e3e16cd6"
    }
   }
  }
 },
 "nbformat": 4,
 "nbformat_minor": 2,
 "cells": [
  {
   "cell_type": "code",
   "execution_count": 1,
   "metadata": {},
   "outputs": [
    {
     "output_type": "stream",
     "name": "stdout",
     "text": [
      "Requirement already satisfied: split-folders in /home/matheuscosta/.local/lib/python3.8/site-packages (0.4.3)\n"
     ]
    }
   ],
   "source": [
    "!pip install split-folders\n",
    "\n",
    "import splitfolders\n"
   ]
  },
  {
   "cell_type": "code",
   "execution_count": 2,
   "metadata": {},
   "outputs": [],
   "source": [
    "lesions = [\"Basal Cell Carcinoma\", \n",
    "    \"Lentigo\",\n",
    "    \"Malignant Melanoma\", \n",
    "    \"Melanocytic naevus\",\n",
    "    \"seborrhoeic keratosis\",\n",
    "    \"Wart\", \n",
    "    \"Actinic Keratosis\",\n",
    "    \"Squamous Cell Carcinoma\",\n",
    "    \"Intraepithelial Carcinoma\", \n",
    "    \"Pyogenic Granuloma\",\n",
    "    \"Haemangioma\",\n",
    "    \"Dermatofibroma\"\n",
    "    ]"
   ]
  },
  {
   "cell_type": "code",
   "execution_count": 3,
   "metadata": {},
   "outputs": [
    {
     "output_type": "stream",
     "name": "stderr",
     "text": [
      "Copying files: 2248 files [00:00, 11362.95 files/s]\n",
      "Copying files: 0 files [00:00, ? files/s]\n",
      "Copying files: 0 files [00:00, ? files/s]\n",
      "Copying files: 0 files [00:00, ? files/s]\n",
      "Copying files: 0 files [00:00, ? files/s]\n",
      "Copying files: 0 files [00:00, ? files/s]\n",
      "Copying files: 0 files [00:00, ? files/s]\n",
      "Copying files: 0 files [00:00, ? files/s]\n",
      "Copying files: 0 files [00:00, ? files/s]\n",
      "Copying files: 0 files [00:00, ? files/s]\n",
      "Copying files: 0 files [00:00, ? files/s]\n",
      "Copying files: 0 files [00:00, ? files/s]\n",
      "Copying files: 0 files [00:00, ? files/s]\n"
     ]
    }
   ],
   "source": [
    "splitfolders.ratio(\"./dataset-pre-process/\", output=\"./dataset-split/\", seed=1337, ratio=(.8, .1, .1))\n",
    "for lesion in lesions:\n",
    "    splitfolders.ratio(\"./dataset-pre-process/\" + lesion , output=\"./dataset-split/\", seed=1337, ratio=(.8, .1, .1))"
   ]
  }
 ]
}