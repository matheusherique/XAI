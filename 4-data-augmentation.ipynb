{
 "cells": [
  {
   "cell_type": "code",
   "execution_count": 1,
   "metadata": {},
   "outputs": [],
   "source": [
    "import Augmentor as aug\n",
    "import glob\n",
    "import os\n",
    "import numpy as np\n",
    "import cv2 as cv\n",
    "import PIL\n",
    "from Augmentor.Operations import Operation"
   ]
  },
  {
   "cell_type": "code",
   "execution_count": 2,
   "metadata": {},
   "outputs": [],
   "source": [
    "class Lightning(Operation):\n",
    "    def __init__(self, probability, intensity_low=0.7, intensity_high=1.2):\n",
    "        Operation.__init__(self, probability)\n",
    "        self.intensity_low = intensity_low\n",
    "        self.intensity_high = intensity_high\n",
    "\n",
    "    def perform_operation(self, images):\n",
    "        for i, image in enumerate(images):\n",
    "            image = np.array(image.convert('RGB'))\n",
    "            row, col, _ = image.shape\n",
    "            light_intensity = np.random.randint(\n",
    "                int(self.intensity_low * 100),\n",
    "                int(self.intensity_high * 100)\n",
    "            )\n",
    "            light_intensity /= 100\n",
    "\n",
    "            gaussian = 100 * np.random.random((row, col, 1))\n",
    "            gaussian = np.array(gaussian, dtype=np.uint8)\n",
    "            gaussian = np.concatenate((gaussian, gaussian, gaussian), axis=2)\n",
    "\n",
    "            image = cv.addWeighted(image, light_intensity, gaussian, 0.25, 0)\n",
    "\n",
    "            image = PIL.Image.fromarray(image)\n",
    "            images[i] = image\n",
    "            \n",
    "        return images"
   ]
  },
  {
   "cell_type": "code",
   "execution_count": 3,
   "metadata": {},
   "outputs": [
    {
     "output_type": "stream",
     "name": "stdout",
     "text": [
      "Classes found ['Wart', 'Melanocytic naevus', 'Lentigo', 'Pyogenic Granuloma', 'Haemangioma', 'Squamous Cell Carcinoma', 'Basal Cell Carcinoma', 'Dermatofibroma', 'seborrhoeic keratosis', 'Malignant Melanoma', 'Actinic Keratosis', 'Intraepithelial Carcinoma']\n"
     ]
    }
   ],
   "source": [
    "DIRECTORIES = 'dataset-split/*/*'\n",
    "folders = []\n",
    "for f in glob.glob(DIRECTORIES):\n",
    "    print(f[14:16])\n",
    "    if os.path.isdir(f):\n",
    "        if(f[14:16] == \"va\"):\n",
    "            folders.append(os.path.abspath(f)+\"_va\")\n",
    "        elif(f[14:16] == \"tr\"):\n",
    "            folders.append(os.path.abspath(f)+\"_tr\")\n",
    "        elif(f[14:16] == \"te\"):\n",
    "            folders.append(os.path.abspath(f)+\"_te\")\n",
    "\n",
    "print('Classes found {}'.format([os.path.split(x)[1] for x in folders]))\n"
   ]
  },
  {
   "cell_type": "code",
   "execution_count": 4,
   "metadata": {},
   "outputs": [
    {
     "output_type": "stream",
     "name": "stdout",
     "text": [
      "Initialised with 102 image(s) found.\nOutput directory set to /home/matheuscosta/Workbench/XAI/dataset/Wart/resnet_augmented.Initialised with 332 image(s) found.\nOutput directory set to /home/matheuscosta/Workbench/XAI/dataset/Melanocytic naevus/resnet_augmented.Initialised with 81 image(s) found.\nOutput directory set to /home/matheuscosta/Workbench/XAI/dataset/Lentigo/resnet_augmented.Initialised with 24 image(s) found.\nOutput directory set to /home/matheuscosta/Workbench/XAI/dataset/Pyogenic Granuloma/resnet_augmented.Initialised with 115 image(s) found.\nOutput directory set to /home/matheuscosta/Workbench/XAI/dataset/Haemangioma/resnet_augmented.Initialised with 328 image(s) found.\nOutput directory set to /home/matheuscosta/Workbench/XAI/dataset/Squamous Cell Carcinoma/resnet_augmented.Initialised with 695 image(s) found.\nOutput directory set to /home/matheuscosta/Workbench/XAI/dataset/Basal Cell Carcinoma/resnet_augmented.Initialised with 106 image(s) found.\nOutput directory set to /home/matheuscosta/Workbench/XAI/dataset/Dermatofibroma/resnet_augmented.Initialised with 258 image(s) found.\nOutput directory set to /home/matheuscosta/Workbench/XAI/dataset/seborrhoeic keratosis/resnet_augmented.Initialised with 95 image(s) found.\nOutput directory set to /home/matheuscosta/Workbench/XAI/dataset/Malignant Melanoma/resnet_augmented.Initialised with 34 image(s) found.\nOutput directory set to /home/matheuscosta/Workbench/XAI/dataset/Actinic Keratosis/resnet_augmented.Initialised with 78 image(s) found.\nOutput directory set to /home/matheuscosta/Workbench/XAI/dataset/Intraepithelial Carcinoma/resnet_augmented.Class 'Wart' has 102 samples\nClass 'Melanocytic naevus' has 332 samples\nClass 'Lentigo' has 81 samples\nClass 'Pyogenic Granuloma' has 24 samples\nClass 'Haemangioma' has 115 samples\nClass 'Squamous Cell Carcinoma' has 328 samples\nClass 'Basal Cell Carcinoma' has 695 samples\nClass 'Dermatofibroma' has 106 samples\nClass 'seborrhoeic keratosis' has 258 samples\nClass 'Malignant Melanoma' has 95 samples\nClass 'Actinic Keratosis' has 34 samples\nClass 'Intraepithelial Carcinoma' has 78 samples\n"
     ]
    }
   ],
   "source": [
    "pipelines = {}\n",
    "for folder in folders:\n",
    "    print(folder[:-2])\n",
    "    pipelines[os.path.split(folder)[1]] = \\\n",
    "        (aug.Pipeline(source_directory=folder[:-3],\n",
    "            output_directory='resnet_augmented',\n",
    "            save_format='jpg'\n",
    "            )\n",
    "        )\n",
    "\n",
    "classes_count = []\n",
    "for p in pipelines.values():\n",
    "    print(\"Class '{}' has {} samples\".format(\n",
    "        p.augmentor_images[0].class_label,\n",
    "        len(p.augmentor_images)\n",
    "    ))\n",
    "    classes_count.append(len(p.augmentor_images))\n",
    "\n",
    "print(classes_count)"
   ]
  },
  {
   "cell_type": "code",
   "execution_count": 5,
   "metadata": {},
   "outputs": [],
   "source": [
    "lightning = Lightning(probability=0.5)\n",
    "\n",
    "for p in pipelines.values():\n",
    "    p.rotate(probability=0.5, max_left_rotation=10, max_right_rotation=10)\n",
    "    p.zoom_random(probability=0.4, percentage_area=0.9)\n",
    "    p.flip_left_right(probability=0.7)\n",
    "    p.flip_top_bottom(probability=0.5)\n",
    "    p.random_distortion(probability=0.8, grid_width=5, grid_height=5, magnitude=15)\n",
    "    p.add_operation(lightning)\n",
    "    p.resize(probability=1.0, width=448, height=448)"
   ]
  },
  {
   "cell_type": "code",
   "execution_count": 6,
   "metadata": {},
   "outputs": [
    {
     "output_type": "stream",
     "name": "stderr",
     "text": [
      "Processing <PIL.Image.Image image mode=RGB size=448x448 at 0x7F62E41C19D0>: 100%|██████████| 2958/2958 [00:14<00:00, 198.13 Samples/s] \n",
      "Processing <PIL.Image.Image image mode=RGB size=448x448 at 0x7F62B823A970>: 100%|██████████| 9628/9628 [00:40<00:00, 238.59 Samples/s]\n",
      "Processing <PIL.Image.Image image mode=RGB size=448x448 at 0x7F62DEFD4AC0>: 100%|██████████| 2349/2349 [00:15<00:00, 152.11 Samples/s] \n",
      "Processing <PIL.Image.Image image mode=RGB size=448x448 at 0x7F62E5432A60>: 100%|██████████| 696/696 [00:09<00:00, 73.54 Samples/s] \n",
      "Processing <PIL.Image.Image image mode=RGB size=448x448 at 0x7F62E42AD640>: 100%|██████████| 3335/3335 [00:26<00:00, 125.65 Samples/s]\n",
      "Processing <PIL.Image.Image image mode=RGB size=448x448 at 0x7F62B8F08F70>: 100%|██████████| 9512/9512 [01:07<00:00, 141.55 Samples/s]\n",
      "Processing <PIL.Image.Image image mode=RGB size=448x448 at 0x7F6298A07670>: 100%|██████████| 20155/20155 [02:14<00:00, 149.58 Samples/s]\n",
      "Processing <PIL.Image.Image image mode=RGB size=448x448 at 0x7F6298A07850>: 100%|██████████| 3074/3074 [00:35<00:00, 85.42 Samples/s] \n",
      "Processing <PIL.Image.Image image mode=RGB size=448x448 at 0x7F62DC192D00>: 100%|██████████| 7482/7482 [00:50<00:00, 149.41 Samples/s]\n",
      "Processing <PIL.Image.Image image mode=RGB size=448x448 at 0x7F62E410C070>: 100%|██████████| 2755/2755 [00:53<00:00, 51.16 Samples/s]\n",
      "Processing <PIL.Image.Image image mode=RGB size=448x448 at 0x7F62E5490D90>: 100%|██████████| 986/986 [00:05<00:00, 194.11 Samples/s]\n",
      "Processing <PIL.Image.Image image mode=RGB size=448x448 at 0x7F62E4104C40>: 100%|██████████| 2262/2262 [00:49<00:00, 45.69 Samples/s]\n"
     ]
    }
   ],
   "source": [
    "SAME_SAMPLING = False\n",
    "MULTIPLIER = 29\n",
    "\n",
    "for p in pipelines.values():\n",
    "    if SAME_SAMPLING:\n",
    "        diff = max(classes_count) - len(p.augmentor_images)\n",
    "        p.sample((len(p.augmentor_images) + diff)*MULTIPLIER + diff)\n",
    "    else:\n",
    "        p.sample(len(p.augmentor_images)*MULTIPLIER)"
   ]
  },
  {
   "cell_type": "code",
   "execution_count": null,
   "metadata": {},
   "outputs": [],
   "source": []
  }
 ],
 "metadata": {
  "kernelspec": {
   "display_name": "Python 3",
   "language": "python",
   "name": "python3"
  },
  "language_info": {
   "codemirror_mode": {
    "name": "ipython",
    "version": 3
   },
   "file_extension": ".py",
   "mimetype": "text/x-python",
   "name": "python",
   "nbconvert_exporter": "python",
   "pygments_lexer": "ipython3",
   "version": "3.8.6-final"
  }
 },
 "nbformat": 4,
 "nbformat_minor": 4
}