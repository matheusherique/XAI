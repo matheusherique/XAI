{
 "cells": [
  {
   "cell_type": "code",
   "execution_count": 1,
   "metadata": {},
   "outputs": [],
   "source": [
    "import Augmentor as aug\n",
    "import glob\n",
    "import os\n",
    "import numpy as np\n",
    "import cv2 as cv\n",
    "import PIL\n",
    "from Augmentor.Operations import Operation"
   ]
  },
  {
   "cell_type": "code",
   "execution_count": 2,
   "metadata": {},
   "outputs": [],
   "source": [
    "class Lightning(Operation):\n",
    "    def __init__(self, probability, intensity_low=0.7, intensity_high=1.2):\n",
    "        Operation.__init__(self, probability)\n",
    "        self.intensity_low = intensity_low\n",
    "        self.intensity_high = intensity_high\n",
    "\n",
    "    def perform_operation(self, images):\n",
    "        for i, image in enumerate(images):\n",
    "            image = np.array(image.convert('RGB'))\n",
    "            row, col, _ = image.shape\n",
    "            light_intensity = np.random.randint(\n",
    "                int(self.intensity_low * 100),\n",
    "                int(self.intensity_high * 100)\n",
    "            )\n",
    "            light_intensity /= 100\n",
    "\n",
    "            gaussian = 100 * np.random.random((row, col, 1))\n",
    "            gaussian = np.array(gaussian, dtype=np.uint8)\n",
    "            gaussian = np.concatenate((gaussian, gaussian, gaussian), axis=2)\n",
    "\n",
    "            image = cv.addWeighted(image, light_intensity, gaussian, 0.25, 0)\n",
    "\n",
    "            image = PIL.Image.fromarray(image)\n",
    "            images[i] = image\n",
    "            \n",
    "        return images"
   ]
  },
  {
   "cell_type": "code",
   "execution_count": 3,
   "metadata": {},
   "outputs": [
    {
     "output_type": "stream",
     "name": "stdout",
     "text": [
      "Classes found ['Wart', 'Melanocytic naevus', 'Lentigo', 'Pyogenic Granuloma', 'Haemangioma', 'Squamous Cell Carcinoma', 'Basal Cell Carcinoma', 'Dermatofibroma', 'seborrhoeic keratosis', 'Malignant Melanoma', 'Actinic Keratosis', 'Intraepithelial Carcinoma']\n"
     ]
    }
   ],
   "source": [
    "DIRECTORIES = 'dataset/*'\n",
    "folders = []\n",
    "for f in glob.glob(DIRECTORIES):\n",
    "    if os.path.isdir(f):\n",
    "        folders.append(os.path.abspath(f))\n",
    "\n",
    "print('Classes found {}'.format([os.path.split(x)[1] for x in folders]))\n"
   ]
  },
  {
   "cell_type": "code",
   "execution_count": 4,
   "metadata": {},
   "outputs": [
    {
     "output_type": "stream",
     "name": "stdout",
     "text": [
      "Initialised with 102 image(s) found.\nOutput directory set to /home/matheuscosta/Workbench/XAI/dataset/Wart/resnet_augmented.Initialised with 332 image(s) found.\nOutput directory set to /home/matheuscosta/Workbench/XAI/dataset/Melanocytic naevus/resnet_augmented.Initialised with 81 image(s) found.\nOutput directory set to /home/matheuscosta/Workbench/XAI/dataset/Lentigo/resnet_augmented.Initialised with 24 image(s) found.\nOutput directory set to /home/matheuscosta/Workbench/XAI/dataset/Pyogenic Granuloma/resnet_augmented.Initialised with 115 image(s) found.\nOutput directory set to /home/matheuscosta/Workbench/XAI/dataset/Haemangioma/resnet_augmented.Initialised with 328 image(s) found.\nOutput directory set to /home/matheuscosta/Workbench/XAI/dataset/Squamous Cell Carcinoma/resnet_augmented.Initialised with 720 image(s) found.\nOutput directory set to /home/matheuscosta/Workbench/XAI/dataset/Basal Cell Carcinoma/resnet_augmented.Initialised with 106 image(s) found.\nOutput directory set to /home/matheuscosta/Workbench/XAI/dataset/Dermatofibroma/resnet_augmented.Initialised with 258 image(s) found.\nOutput directory set to /home/matheuscosta/Workbench/XAI/dataset/seborrhoeic keratosis/resnet_augmented.Initialised with 95 image(s) found.\nOutput directory set to /home/matheuscosta/Workbench/XAI/dataset/Malignant Melanoma/resnet_augmented.Initialised with 34 image(s) found.\nOutput directory set to /home/matheuscosta/Workbench/XAI/dataset/Actinic Keratosis/resnet_augmented.Initialised with 78 image(s) found.\nOutput directory set to /home/matheuscosta/Workbench/XAI/dataset/Intraepithelial Carcinoma/resnet_augmented.Class 'Wart' has 102 samples\nClass 'Melanocytic naevus' has 332 samples\nClass 'Lentigo' has 81 samples\nClass 'Pyogenic Granuloma' has 24 samples\nClass 'Haemangioma' has 115 samples\nClass 'Squamous Cell Carcinoma' has 328 samples\nClass 'Basal Cell Carcinoma' has 720 samples\nClass 'Dermatofibroma' has 106 samples\nClass 'seborrhoeic keratosis' has 258 samples\nClass 'Malignant Melanoma' has 95 samples\nClass 'Actinic Keratosis' has 34 samples\nClass 'Intraepithelial Carcinoma' has 78 samples\n"
     ]
    }
   ],
   "source": [
    "pipelines = {}\n",
    "for folder in folders:\n",
    "    pipelines[os.path.split(folder)[1]] = \\\n",
    "        (aug.Pipeline(source_directory=folder,\n",
    "            output_directory='resnet_augmented',\n",
    "            save_format='jpg'\n",
    "            )\n",
    "        )\n",
    "\n",
    "classes_count = []\n",
    "for p in pipelines.values():\n",
    "    if len(p.augmentor_images) > 0:\n",
    "        print(\"Class '{}' has {} samples\".format(\n",
    "            p.augmentor_images[0].class_label,\n",
    "            len(p.augmentor_images)\n",
    "        ))\n",
    "        classes_count.append(len(p.augmentor_images))"
   ]
  },
  {
   "cell_type": "code",
   "execution_count": 5,
   "metadata": {},
   "outputs": [],
   "source": [
    "lightning = Lightning(probability=0.5)\n",
    "\n",
    "for p in pipelines.values():\n",
    "    p.rotate(probability=0.5, max_left_rotation=10, max_right_rotation=10)\n",
    "    p.zoom_random(probability=0.4, percentage_area=0.9)\n",
    "    p.flip_left_right(probability=0.7)\n",
    "    p.flip_top_bottom(probability=0.5)\n",
    "    p.random_distortion(probability=0.8, grid_width=5, grid_height=5, magnitude=15)\n",
    "    p.add_operation(lightning)\n",
    "    p.resize(probability=1.0, width=224, height=224)"
   ]
  },
  {
   "cell_type": "code",
   "execution_count": 6,
   "metadata": {},
   "outputs": [
    {
     "output_type": "stream",
     "name": "stderr",
     "text": [
      "Processing <PIL.Image.Image image mode=RGB size=224x224 at 0x7FC10374C700>:   0%|          | 10/2958 [00:00<00:49, 59.00 Samples/s]dict_values([<Augmentor.Pipeline.Pipeline object at 0x7fc1039aaa00>, <Augmentor.Pipeline.Pipeline object at 0x7fc1038d3e80>, <Augmentor.Pipeline.Pipeline object at 0x7fc10390ca00>, <Augmentor.Pipeline.Pipeline object at 0x7fc1038a58b0>, <Augmentor.Pipeline.Pipeline object at 0x7fc1038a1070>, <Augmentor.Pipeline.Pipeline object at 0x7fc14f7ce7c0>, <Augmentor.Pipeline.Pipeline object at 0x7fc1038d0430>, <Augmentor.Pipeline.Pipeline object at 0x7fc1037f1e20>, <Augmentor.Pipeline.Pipeline object at 0x7fc103804310>, <Augmentor.Pipeline.Pipeline object at 0x7fc1037b1280>, <Augmentor.Pipeline.Pipeline object at 0x7fc1038794f0>, <Augmentor.Pipeline.Pipeline object at 0x7fc1037bec40>])\n",
      "Processing <PIL.Image.Image image mode=RGB size=224x224 at 0x7FC0E9FE9070>: 100%|██████████| 2958/2958 [00:13<00:00, 220.83 Samples/s] \n",
      "Processing <PIL.Image.Image image mode=RGB size=224x224 at 0x7FC0C6F2FDC0>: 100%|██████████| 9628/9628 [00:34<00:00, 280.14 Samples/s]\n",
      "Processing <PIL.Image.Image image mode=RGB size=224x224 at 0x7FC0E82C0D00>: 100%|██████████| 2349/2349 [00:14<00:00, 165.06 Samples/s]\n",
      "Processing <PIL.Image.Image image mode=RGB size=224x224 at 0x7FC0E9FB8430>: 100%|██████████| 696/696 [00:09<00:00, 75.00 Samples/s]\n",
      "Processing <PIL.Image.Image image mode=RGB size=224x224 at 0x7FC100DC6490>: 100%|██████████| 3335/3335 [00:24<00:00, 135.55 Samples/s]\n",
      "Processing <PIL.Image.Image image mode=RGB size=224x224 at 0x7FC100396130>: 100%|██████████| 9512/9512 [01:00<00:00, 156.08 Samples/s]\n",
      "Processing <PIL.Image.Image image mode=RGB size=224x224 at 0x7FC0AEDA5AF0>: 100%|██████████| 20880/20880 [01:59<00:00, 174.05 Samples/s]\n",
      "Processing <PIL.Image.Image image mode=RGB size=224x224 at 0x7FC0E8196B50>: 100%|██████████| 3074/3074 [00:32<00:00, 95.55 Samples/s] \n",
      "Processing <PIL.Image.Image image mode=RGB size=224x224 at 0x7FC100DE0EE0>: 100%|██████████| 7482/7482 [00:43<00:00, 173.82 Samples/s]\n",
      "Processing <PIL.Image.Image image mode=RGB size=224x224 at 0x7FC0AED9CA60>: 100%|██████████| 2755/2755 [00:47<00:00, 57.60 Samples/s]\n",
      "Processing <PIL.Image.Image image mode=RGB size=224x224 at 0x7FC1038A83A0>: 100%|██████████| 986/986 [00:03<00:00, 251.83 Samples/s]\n",
      "Processing <PIL.Image.Image image mode=RGB size=224x224 at 0x7FC1039AA490>: 100%|██████████| 2262/2262 [00:42<00:00, 53.80 Samples/s]\n"
     ]
    }
   ],
   "source": [
    "SAME_SAMPLING = False\n",
    "MULTIPLIER = 29\n",
    "\n",
    "for p in pipelines.values():\n",
    "    if SAME_SAMPLING:\n",
    "        diff = max(classes_count) - len(p.augmentor_images)\n",
    "        p.sample((len(p.augmentor_images) + diff)*MULTIPLIER + diff)\n",
    "    else:\n",
    "        p.sample(len(p.augmentor_images)*MULTIPLIER)"
   ]
  },
  {
   "cell_type": "code",
   "execution_count": null,
   "metadata": {},
   "outputs": [],
   "source": []
  }
 ],
 "metadata": {
  "kernelspec": {
   "display_name": "Python 3",
   "language": "python",
   "name": "python3"
  },
  "language_info": {
   "codemirror_mode": {
    "name": "ipython",
    "version": 3
   },
   "file_extension": ".py",
   "mimetype": "text/x-python",
   "name": "python",
   "nbconvert_exporter": "python",
   "pygments_lexer": "ipython3",
   "version": "3.8.6-final"
  }
 },
 "nbformat": 4,
 "nbformat_minor": 4
}