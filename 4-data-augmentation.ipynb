{
 "cells": [
  {
   "cell_type": "code",
   "execution_count": 1,
   "metadata": {},
   "outputs": [],
   "source": [
    "import Augmentor as aug\n",
    "import glob\n",
    "import os\n",
    "import numpy as np\n",
    "import cv2 as cv\n",
    "import PIL\n",
    "from Augmentor.Operations import Operation\n",
    "%store -r IMAGE_SIZE\n"
   ]
  },
  {
   "cell_type": "code",
   "execution_count": 2,
   "metadata": {},
   "outputs": [],
   "source": [
    "class Lightning(Operation):\n",
    "    def __init__(self, probability, intensity_low=0.7, intensity_high=1.2):\n",
    "        Operation.__init__(self, probability)\n",
    "        self.intensity_low = intensity_low\n",
    "        self.intensity_high = intensity_high\n",
    "\n",
    "    def perform_operation(self, images):\n",
    "        for i, image in enumerate(images):\n",
    "            image = np.array(image.convert('RGB'))\n",
    "            row, col, _ = image.shape\n",
    "            light_intensity = np.random.randint(\n",
    "                int(self.intensity_low * 100),\n",
    "                int(self.intensity_high * 100)\n",
    "            )\n",
    "            light_intensity /= 100\n",
    "\n",
    "            gaussian = 100 * np.random.random((row, col, 1))\n",
    "            gaussian = np.array(gaussian, dtype=np.uint8)\n",
    "            gaussian = np.concatenate((gaussian, gaussian, gaussian), axis=2)\n",
    "\n",
    "            image = cv.addWeighted(image, light_intensity, gaussian, 0.25, 0)\n",
    "\n",
    "            image = PIL.Image.fromarray(image)\n",
    "            images[i] = image\n",
    "            \n",
    "        return images"
   ]
  },
  {
   "cell_type": "code",
   "execution_count": 3,
   "metadata": {},
   "outputs": [
    {
     "output_type": "stream",
     "name": "stdout",
     "text": [
      "va\nva\nva\nva\nva\nva\nva\nva\nva\nva\nva\nva\ntr\ntr\ntr\ntr\ntr\ntr\ntr\ntr\ntr\ntr\ntr\ntr\nte\nte\nte\nte\nte\nte\nte\nte\nte\nte\nte\nte\nClasses found ['Wart_va', 'Melanocytic naevus_va', 'Lentigo_va', 'Pyogenic Granuloma_va', 'Haemangioma_va', 'Squamous Cell Carcinoma_va', 'Basal Cell Carcinoma_va', 'Dermatofibroma_va', 'seborrhoeic keratosis_va', 'Malignant Melanoma_va', 'Actinic Keratosis_va', 'Intraepithelial Carcinoma_va', 'Wart_tr', 'Melanocytic naevus_tr', 'Lentigo_tr', 'Pyogenic Granuloma_tr', 'Haemangioma_tr', 'Squamous Cell Carcinoma_tr', 'Basal Cell Carcinoma_tr', 'Dermatofibroma_tr', 'seborrhoeic keratosis_tr', 'Malignant Melanoma_tr', 'Actinic Keratosis_tr', 'Intraepithelial Carcinoma_tr', 'Wart_te', 'Melanocytic naevus_te', 'Lentigo_te', 'Pyogenic Granuloma_te', 'Haemangioma_te', 'Squamous Cell Carcinoma_te', 'Basal Cell Carcinoma_te', 'Dermatofibroma_te', 'seborrhoeic keratosis_te', 'Malignant Melanoma_te', 'Actinic Keratosis_te', 'Intraepithelial Carcinoma_te']\n"
     ]
    }
   ],
   "source": [
    "DIRECTORIES = 'dataset-split/*/*'\n",
    "folders = []\n",
    "for f in glob.glob(DIRECTORIES):\n",
    "    print(f[14:16])\n",
    "    if os.path.isdir(f):\n",
    "        if(f[14:16] == \"va\"):\n",
    "            folders.append(os.path.abspath(f)+\"_va\")\n",
    "        elif(f[14:16] == \"tr\"):\n",
    "            folders.append(os.path.abspath(f)+\"_tr\")\n",
    "        elif(f[14:16] == \"te\"):\n",
    "            folders.append(os.path.abspath(f)+\"_te\")\n",
    "\n",
    "print('Classes found {}'.format([os.path.split(x)[1] for x in folders]))\n"
   ]
  },
  {
   "cell_type": "code",
   "execution_count": 4,
   "metadata": {},
   "outputs": [
    {
     "output_type": "stream",
     "name": "stdout",
     "text": [
      "/home/matheuscosta/Workbench/XAI/dataset-split/val/Wart_\nInitialised with 10 image(s) found.\nOutput directory set to /home/matheuscosta/Workbench/XAI/dataset-split/val/Wart/../home/matheuscosta/Workbench/XAI/dataset-split/val/Melanocytic naevus_\nInitialised with 33 image(s) found.\nOutput directory set to /home/matheuscosta/Workbench/XAI/dataset-split/val/Melanocytic naevus/../home/matheuscosta/Workbench/XAI/dataset-split/val/Lentigo_\nInitialised with 8 image(s) found.\nOutput directory set to /home/matheuscosta/Workbench/XAI/dataset-split/val/Lentigo/../home/matheuscosta/Workbench/XAI/dataset-split/val/Pyogenic Granuloma_\nInitialised with 2 image(s) found.\nOutput directory set to /home/matheuscosta/Workbench/XAI/dataset-split/val/Pyogenic Granuloma/../home/matheuscosta/Workbench/XAI/dataset-split/val/Haemangioma_\nInitialised with 11 image(s) found.\nOutput directory set to /home/matheuscosta/Workbench/XAI/dataset-split/val/Haemangioma/../home/matheuscosta/Workbench/XAI/dataset-split/val/Squamous Cell Carcinoma_\nInitialised with 32 image(s) found.\nOutput directory set to /home/matheuscosta/Workbench/XAI/dataset-split/val/Squamous Cell Carcinoma/../home/matheuscosta/Workbench/XAI/dataset-split/val/Basal Cell Carcinoma_\nInitialised with 69 image(s) found.\nOutput directory set to /home/matheuscosta/Workbench/XAI/dataset-split/val/Basal Cell Carcinoma/../home/matheuscosta/Workbench/XAI/dataset-split/val/Dermatofibroma_\nInitialised with 10 image(s) found.\nOutput directory set to /home/matheuscosta/Workbench/XAI/dataset-split/val/Dermatofibroma/../home/matheuscosta/Workbench/XAI/dataset-split/val/seborrhoeic keratosis_\nInitialised with 25 image(s) found.\nOutput directory set to /home/matheuscosta/Workbench/XAI/dataset-split/val/seborrhoeic keratosis/../home/matheuscosta/Workbench/XAI/dataset-split/val/Malignant Melanoma_\nInitialised with 9 image(s) found.\nOutput directory set to /home/matheuscosta/Workbench/XAI/dataset-split/val/Malignant Melanoma/../home/matheuscosta/Workbench/XAI/dataset-split/val/Actinic Keratosis_\nInitialised with 3 image(s) found.\nOutput directory set to /home/matheuscosta/Workbench/XAI/dataset-split/val/Actinic Keratosis/../home/matheuscosta/Workbench/XAI/dataset-split/val/Intraepithelial Carcinoma_\nInitialised with 7 image(s) found.\nOutput directory set to /home/matheuscosta/Workbench/XAI/dataset-split/val/Intraepithelial Carcinoma/../home/matheuscosta/Workbench/XAI/dataset-split/train/Wart_\nInitialised with 81 image(s) found.\nOutput directory set to /home/matheuscosta/Workbench/XAI/dataset-split/train/Wart/../home/matheuscosta/Workbench/XAI/dataset-split/train/Melanocytic naevus_\nInitialised with 265 image(s) found.\nOutput directory set to /home/matheuscosta/Workbench/XAI/dataset-split/train/Melanocytic naevus/../home/matheuscosta/Workbench/XAI/dataset-split/train/Lentigo_\nInitialised with 64 image(s) found.\nOutput directory set to /home/matheuscosta/Workbench/XAI/dataset-split/train/Lentigo/../home/matheuscosta/Workbench/XAI/dataset-split/train/Pyogenic Granuloma_\nInitialised with 19 image(s) found.\nOutput directory set to /home/matheuscosta/Workbench/XAI/dataset-split/train/Pyogenic Granuloma/../home/matheuscosta/Workbench/XAI/dataset-split/train/Haemangioma_\nInitialised with 92 image(s) found.\nOutput directory set to /home/matheuscosta/Workbench/XAI/dataset-split/train/Haemangioma/../home/matheuscosta/Workbench/XAI/dataset-split/train/Squamous Cell Carcinoma_\nInitialised with 262 image(s) found.\nOutput directory set to /home/matheuscosta/Workbench/XAI/dataset-split/train/Squamous Cell Carcinoma/../home/matheuscosta/Workbench/XAI/dataset-split/train/Basal Cell Carcinoma_\nInitialised with 556 image(s) found.\nOutput directory set to /home/matheuscosta/Workbench/XAI/dataset-split/train/Basal Cell Carcinoma/../home/matheuscosta/Workbench/XAI/dataset-split/train/Dermatofibroma_\nInitialised with 84 image(s) found.\nOutput directory set to /home/matheuscosta/Workbench/XAI/dataset-split/train/Dermatofibroma/../home/matheuscosta/Workbench/XAI/dataset-split/train/seborrhoeic keratosis_\nInitialised with 206 image(s) found.\nOutput directory set to /home/matheuscosta/Workbench/XAI/dataset-split/train/seborrhoeic keratosis/../home/matheuscosta/Workbench/XAI/dataset-split/train/Malignant Melanoma_\nInitialised with 76 image(s) found.\nOutput directory set to /home/matheuscosta/Workbench/XAI/dataset-split/train/Malignant Melanoma/../home/matheuscosta/Workbench/XAI/dataset-split/train/Actinic Keratosis_\nInitialised with 27 image(s) found.\nOutput directory set to /home/matheuscosta/Workbench/XAI/dataset-split/train/Actinic Keratosis/../home/matheuscosta/Workbench/XAI/dataset-split/train/Intraepithelial Carcinoma_\nInitialised with 62 image(s) found.\nOutput directory set to /home/matheuscosta/Workbench/XAI/dataset-split/train/Intraepithelial Carcinoma/../home/matheuscosta/Workbench/XAI/dataset-split/test/Wart_\nInitialised with 11 image(s) found.\nOutput directory set to /home/matheuscosta/Workbench/XAI/dataset-split/test/Wart/../home/matheuscosta/Workbench/XAI/dataset-split/test/Melanocytic naevus_\nInitialised with 34 image(s) found.\nOutput directory set to /home/matheuscosta/Workbench/XAI/dataset-split/test/Melanocytic naevus/../home/matheuscosta/Workbench/XAI/dataset-split/test/Lentigo_\nInitialised with 9 image(s) found.\nOutput directory set to /home/matheuscosta/Workbench/XAI/dataset-split/test/Lentigo/../home/matheuscosta/Workbench/XAI/dataset-split/test/Pyogenic Granuloma_\nInitialised with 3 image(s) found.\nOutput directory set to /home/matheuscosta/Workbench/XAI/dataset-split/test/Pyogenic Granuloma/../home/matheuscosta/Workbench/XAI/dataset-split/test/Haemangioma_\nInitialised with 12 image(s) found.\nOutput directory set to /home/matheuscosta/Workbench/XAI/dataset-split/test/Haemangioma/../home/matheuscosta/Workbench/XAI/dataset-split/test/Squamous Cell Carcinoma_\nInitialised with 34 image(s) found.\nOutput directory set to /home/matheuscosta/Workbench/XAI/dataset-split/test/Squamous Cell Carcinoma/../home/matheuscosta/Workbench/XAI/dataset-split/test/Basal Cell Carcinoma_\nInitialised with 70 image(s) found.\nOutput directory set to /home/matheuscosta/Workbench/XAI/dataset-split/test/Basal Cell Carcinoma/../home/matheuscosta/Workbench/XAI/dataset-split/test/Dermatofibroma_\nInitialised with 12 image(s) found.\nOutput directory set to /home/matheuscosta/Workbench/XAI/dataset-split/test/Dermatofibroma/../home/matheuscosta/Workbench/XAI/dataset-split/test/seborrhoeic keratosis_\nInitialised with 27 image(s) found.\nOutput directory set to /home/matheuscosta/Workbench/XAI/dataset-split/test/seborrhoeic keratosis/../home/matheuscosta/Workbench/XAI/dataset-split/test/Malignant Melanoma_\nInitialised with 10 image(s) found.\nOutput directory set to /home/matheuscosta/Workbench/XAI/dataset-split/test/Malignant Melanoma/../home/matheuscosta/Workbench/XAI/dataset-split/test/Actinic Keratosis_\nInitialised with 4 image(s) found.\nOutput directory set to /home/matheuscosta/Workbench/XAI/dataset-split/test/Actinic Keratosis/../home/matheuscosta/Workbench/XAI/dataset-split/test/Intraepithelial Carcinoma_\nInitialised with 9 image(s) found.\nOutput directory set to /home/matheuscosta/Workbench/XAI/dataset-split/test/Intraepithelial Carcinoma/..Class 'Wart' has 10 samples\nClass 'Melanocytic naevus' has 33 samples\nClass 'Lentigo' has 8 samples\nClass 'Pyogenic Granuloma' has 2 samples\nClass 'Haemangioma' has 11 samples\nClass 'Squamous Cell Carcinoma' has 32 samples\nClass 'Basal Cell Carcinoma' has 69 samples\nClass 'Dermatofibroma' has 10 samples\nClass 'seborrhoeic keratosis' has 25 samples\nClass 'Malignant Melanoma' has 9 samples\nClass 'Actinic Keratosis' has 3 samples\nClass 'Intraepithelial Carcinoma' has 7 samples\nClass 'Wart' has 81 samples\nClass 'Melanocytic naevus' has 265 samples\nClass 'Lentigo' has 64 samples\nClass 'Pyogenic Granuloma' has 19 samples\nClass 'Haemangioma' has 92 samples\nClass 'Squamous Cell Carcinoma' has 262 samples\nClass 'Basal Cell Carcinoma' has 556 samples\nClass 'Dermatofibroma' has 84 samples\nClass 'seborrhoeic keratosis' has 206 samples\nClass 'Malignant Melanoma' has 76 samples\nClass 'Actinic Keratosis' has 27 samples\nClass 'Intraepithelial Carcinoma' has 62 samples\nClass 'Wart' has 11 samples\nClass 'Melanocytic naevus' has 34 samples\nClass 'Lentigo' has 9 samples\nClass 'Pyogenic Granuloma' has 3 samples\nClass 'Haemangioma' has 12 samples\nClass 'Squamous Cell Carcinoma' has 34 samples\nClass 'Basal Cell Carcinoma' has 70 samples\nClass 'Dermatofibroma' has 12 samples\nClass 'seborrhoeic keratosis' has 27 samples\nClass 'Malignant Melanoma' has 10 samples\nClass 'Actinic Keratosis' has 4 samples\nClass 'Intraepithelial Carcinoma' has 9 samples\n[10, 33, 8, 2, 11, 32, 69, 10, 25, 9, 3, 7, 81, 265, 64, 19, 92, 262, 556, 84, 206, 76, 27, 62, 11, 34, 9, 3, 12, 34, 70, 12, 27, 10, 4, 9]\n"
     ]
    }
   ],
   "source": [
    "pipelines = {}\n",
    "for folder in folders:\n",
    "    print(folder[:-2])\n",
    "    pipelines[os.path.split(folder)[1]] = \\\n",
    "        (aug.Pipeline(source_directory=folder[:-3],\n",
    "            output_directory='.',\n",
    "            save_format='jpg'\n",
    "            )\n",
    "        )\n",
    "\n",
    "classes_count = []\n",
    "for p in pipelines.values():\n",
    "    print(\"Class '{}' has {} samples\".format(\n",
    "        p.augmentor_images[0].class_label,\n",
    "        len(p.augmentor_images)\n",
    "    ))\n",
    "    classes_count.append(len(p.augmentor_images))\n",
    "\n",
    "print(classes_count)"
   ]
  },
  {
   "cell_type": "code",
   "execution_count": 5,
   "metadata": {},
   "outputs": [],
   "source": [
    "lightning = Lightning(probability=0.5)\n",
    "\n",
    "for p in pipelines.values():\n",
    "    p.rotate(probability=0.5, max_left_rotation=10, max_right_rotation=10)\n",
    "    p.zoom_random(probability=0.4, percentage_area=0.9)\n",
    "    p.flip_left_right(probability=0.7)\n",
    "    p.flip_top_bottom(probability=0.5)\n",
    "    p.random_distortion(probability=0.8, grid_width=5, grid_height=5, magnitude=15)\n",
    "    p.add_operation(lightning)\n",
    "    p.resize(probability=1.0, width=IMAGE_SIZE, height=IMAGE_SIZE)"
   ]
  },
  {
   "cell_type": "code",
   "execution_count": 6,
   "metadata": {},
   "outputs": [
    {
     "output_type": "stream",
     "name": "stderr",
     "text": [
      "Processing <PIL.Image.Image image mode=RGB size=224x224 at 0x7FE46C4644F0>: 100%|██████████| 290/290 [00:00<00:00, 555.13 Samples/s]\n",
      "Processing <PIL.Image.Image image mode=RGB size=224x224 at 0x7FE3B45716D0>: 100%|██████████| 957/957 [00:01<00:00, 557.53 Samples/s] \n",
      "Processing <PIL.Image.Image image mode=RGB size=224x224 at 0x7FE3B6ECC580>: 100%|██████████| 232/232 [00:00<00:00, 560.64 Samples/s]\n",
      "Processing <PIL.Image.Image image mode=RGB size=224x224 at 0x7FE3B45C5700>: 100%|██████████| 58/58 [00:00<00:00, 625.45 Samples/s]\n",
      "Processing <PIL.Image.Image image mode=RGB size=224x224 at 0x7FE3B45B1820>: 100%|██████████| 319/319 [00:00<00:00, 578.60 Samples/s]\n",
      "Processing <PIL.Image.Image image mode=RGB size=224x224 at 0x7FE3B4587CA0>: 100%|██████████| 928/928 [00:01<00:00, 545.33 Samples/s] \n",
      "Processing <PIL.Image.Image image mode=RGB size=224x224 at 0x7FE3B442CFD0>: 100%|██████████| 2001/2001 [00:03<00:00, 560.25 Samples/s] \n",
      "Processing <PIL.Image.Image image mode=RGB size=224x224 at 0x7FE3B45C5EB0>: 100%|██████████| 290/290 [00:00<00:00, 600.33 Samples/s]\n",
      "Processing <PIL.Image.Image image mode=RGB size=224x224 at 0x7FE3B457DBE0>: 100%|██████████| 725/725 [00:01<00:00, 559.21 Samples/s] \n",
      "Processing <PIL.Image.Image image mode=RGB size=224x224 at 0x7FE3B6EB4A90>: 100%|██████████| 261/261 [00:00<00:00, 579.17 Samples/s]\n",
      "Processing <PIL.Image.Image image mode=RGB size=224x224 at 0x7FE3B45715B0>: 100%|██████████| 87/87 [00:00<00:00, 528.26 Samples/s]\n",
      "Processing <PIL.Image.Image image mode=RGB size=224x224 at 0x7FE3B4680B80>: 100%|██████████| 203/203 [00:00<00:00, 535.07 Samples/s]\n",
      "Processing <PIL.Image.Image image mode=RGB size=224x224 at 0x7FE3B44188B0>: 100%|██████████| 2349/2349 [00:04<00:00, 560.68 Samples/s] \n",
      "Processing <PIL.Image.Image image mode=RGB size=224x224 at 0x7FE39444AC70>: 100%|██████████| 7685/7685 [00:15<00:00, 505.63 Samples/s] \n",
      "Processing <PIL.Image.Image image mode=RGB size=224x224 at 0x7FE3B4166340>: 100%|██████████| 1856/1856 [00:03<00:00, 499.98 Samples/s] \n",
      "Processing <PIL.Image.Image image mode=RGB size=224x224 at 0x7FE3B415BF40>: 100%|██████████| 551/551 [00:01<00:00, 481.04 Samples/s]\n",
      "Processing <PIL.Image.Image image mode=RGB size=224x224 at 0x7FE3B4434340>: 100%|██████████| 2668/2668 [00:05<00:00, 496.66 Samples/s] \n",
      "Processing <PIL.Image.Image image mode=RGB size=224x224 at 0x7FE394693A30>: 100%|██████████| 7598/7598 [00:15<00:00, 490.57 Samples/s] \n",
      "Processing <PIL.Image.Image image mode=RGB size=224x224 at 0x7FE394364490>: 100%|██████████| 16124/16124 [00:31<00:00, 512.04 Samples/s] \n",
      "Processing <PIL.Image.Image image mode=RGB size=224x224 at 0x7FE3B449C100>: 100%|██████████| 2436/2436 [00:04<00:00, 587.51 Samples/s] \n",
      "Processing <PIL.Image.Image image mode=RGB size=224x224 at 0x7FE394773520>: 100%|██████████| 5974/5974 [00:10<00:00, 543.62 Samples/s] \n",
      "Processing <PIL.Image.Image image mode=RGB size=224x224 at 0x7FE3B46A8B50>: 100%|██████████| 2204/2204 [00:03<00:00, 574.55 Samples/s] \n",
      "Processing <PIL.Image.Image image mode=RGB size=224x224 at 0x7FE374648220>: 100%|██████████| 783/783 [00:01<00:00, 552.27 Samples/s]\n",
      "Processing <PIL.Image.Image image mode=RGB size=224x224 at 0x7FE3B45CA8B0>: 100%|██████████| 1798/1798 [00:03<00:00, 559.24 Samples/s] \n",
      "Processing <PIL.Image.Image image mode=RGB size=224x224 at 0x7FE357EACF70>: 100%|██████████| 319/319 [00:00<00:00, 559.67 Samples/s]\n",
      "Processing <PIL.Image.Image image mode=RGB size=224x224 at 0x7FE3B415E310>: 100%|██████████| 986/986 [00:01<00:00, 563.56 Samples/s] \n",
      "Processing <PIL.Image.Image image mode=RGB size=224x224 at 0x7FE3B7F20F40>: 100%|██████████| 261/261 [00:00<00:00, 608.22 Samples/s]\n",
      "Processing <PIL.Image.Image image mode=RGB size=224x224 at 0x7FE3B7F2DFA0>: 100%|██████████| 87/87 [00:00<00:00, 587.45 Samples/s]\n",
      "Processing <PIL.Image.Image image mode=RGB size=224x224 at 0x7FE3B4165AF0>: 100%|██████████| 348/348 [00:00<00:00, 612.56 Samples/s]\n",
      "Processing <PIL.Image.Image image mode=RGB size=224x224 at 0x7FE39448B3A0>: 100%|██████████| 986/986 [00:01<00:00, 550.17 Samples/s]\n",
      "Processing <PIL.Image.Image image mode=RGB size=224x224 at 0x7FE394650190>: 100%|██████████| 2030/2030 [00:03<00:00, 548.03 Samples/s] \n",
      "Processing <PIL.Image.Image image mode=RGB size=224x224 at 0x7FE357F663A0>: 100%|██████████| 348/348 [00:00<00:00, 526.56 Samples/s]\n",
      "Processing <PIL.Image.Image image mode=RGB size=224x224 at 0x7FE3B4615460>: 100%|██████████| 783/783 [00:01<00:00, 532.16 Samples/s] \n",
      "Processing <PIL.Image.Image image mode=RGB size=224x224 at 0x7FE3B465AB80>: 100%|██████████| 290/290 [00:00<00:00, 506.60 Samples/s]\n",
      "Processing <PIL.Image.Image image mode=RGB size=224x224 at 0x7FE3B415FD30>: 100%|██████████| 116/116 [00:00<00:00, 583.26 Samples/s]\n",
      "Processing <PIL.Image.Image image mode=RGB size=224x224 at 0x7FE3B4530AC0>: 100%|██████████| 261/261 [00:00<00:00, 560.26 Samples/s]\n"
     ]
    }
   ],
   "source": [
    "SAME_SAMPLING = False\n",
    "MULTIPLIER = 29\n",
    "\n",
    "for p in pipelines.values():\n",
    "    if SAME_SAMPLING:\n",
    "        diff = max(classes_count) - len(p.augmentor_images)\n",
    "        p.sample((len(p.augmentor_images) + diff)*MULTIPLIER + diff)\n",
    "    else:\n",
    "        p.sample(len(p.augmentor_images)*MULTIPLIER)"
   ]
  }
 ],
 "metadata": {
  "kernelspec": {
   "display_name": "Python 3",
   "language": "python",
   "name": "python3"
  },
  "language_info": {
   "codemirror_mode": {
    "name": "ipython",
    "version": 3
   },
   "file_extension": ".py",
   "mimetype": "text/x-python",
   "name": "python",
   "nbconvert_exporter": "python",
   "pygments_lexer": "ipython3",
   "version": "3.8.6-final"
  }
 },
 "nbformat": 4,
 "nbformat_minor": 4
}