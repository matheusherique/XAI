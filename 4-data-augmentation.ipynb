{
 "cells": [
  {
   "cell_type": "code",
   "execution_count": 7,
   "metadata": {},
   "outputs": [],
   "source": [
    "import Augmentor as aug\n",
    "import glob\n",
    "import os\n",
    "import numpy as np\n",
    "import cv2 as cv\n",
    "import PIL\n",
    "from Augmentor.Operations import Operation\n",
    "%store -r IMAGE_SIZE\n"
   ]
  },
  {
   "cell_type": "code",
   "execution_count": 8,
   "metadata": {},
   "outputs": [],
   "source": [
    "class Lightning(Operation):\n",
    "    def __init__(self, probability, intensity_low=0.7, intensity_high=1.2):\n",
    "        Operation.__init__(self, probability)\n",
    "        self.intensity_low = intensity_low\n",
    "        self.intensity_high = intensity_high\n",
    "\n",
    "    def perform_operation(self, images):\n",
    "        for i, image in enumerate(images):\n",
    "            image = np.array(image.convert('RGB'))\n",
    "            row, col, _ = image.shape\n",
    "            light_intensity = np.random.randint(\n",
    "                int(self.intensity_low * 100),\n",
    "                int(self.intensity_high * 100)\n",
    "            )\n",
    "            light_intensity /= 100\n",
    "\n",
    "            gaussian = 100 * np.random.random((row, col, 1))\n",
    "            gaussian = np.array(gaussian, dtype=np.uint8)\n",
    "            gaussian = np.concatenate((gaussian, gaussian, gaussian), axis=2)\n",
    "\n",
    "            image = cv.addWeighted(image, light_intensity, gaussian, 0.25, 0)\n",
    "\n",
    "            image = PIL.Image.fromarray(image)\n",
    "            images[i] = image\n",
    "            \n",
    "        return images"
   ]
  },
  {
   "cell_type": "code",
   "execution_count": 9,
   "metadata": {},
   "outputs": [
    {
     "output_type": "stream",
     "name": "stdout",
     "text": [
      "va\nva\nva\nva\nva\nva\nva\nva\nva\nva\nva\nva\ntr\ntr\ntr\ntr\ntr\ntr\ntr\ntr\ntr\ntr\ntr\ntr\nte\nte\nte\nte\nte\nte\nte\nte\nte\nte\nte\nte\nClasses found ['Wart_va', 'Melanocytic naevus_va', 'Lentigo_va', 'Pyogenic Granuloma_va', 'Haemangioma_va', 'Squamous Cell Carcinoma_va', 'Basal Cell Carcinoma_va', 'Dermatofibroma_va', 'seborrhoeic keratosis_va', 'Malignant Melanoma_va', 'Actinic Keratosis_va', 'Intraepithelial Carcinoma_va', 'Wart_tr', 'Melanocytic naevus_tr', 'Lentigo_tr', 'Pyogenic Granuloma_tr', 'Haemangioma_tr', 'Squamous Cell Carcinoma_tr', 'Basal Cell Carcinoma_tr', 'Dermatofibroma_tr', 'seborrhoeic keratosis_tr', 'Malignant Melanoma_tr', 'Actinic Keratosis_tr', 'Intraepithelial Carcinoma_tr', 'Wart_te', 'Melanocytic naevus_te', 'Lentigo_te', 'Pyogenic Granuloma_te', 'Haemangioma_te', 'Squamous Cell Carcinoma_te', 'Basal Cell Carcinoma_te', 'Dermatofibroma_te', 'seborrhoeic keratosis_te', 'Malignant Melanoma_te', 'Actinic Keratosis_te', 'Intraepithelial Carcinoma_te']\n"
     ]
    }
   ],
   "source": [
    "DIRECTORIES = 'dataset-split/*/*'\n",
    "folders = []\n",
    "for f in glob.glob(DIRECTORIES):\n",
    "    print(f[14:16])\n",
    "    if os.path.isdir(f):\n",
    "        if(f[14:16] == \"va\"):\n",
    "            folders.append(os.path.abspath(f)+\"_va\")\n",
    "        elif(f[14:16] == \"tr\"):\n",
    "            folders.append(os.path.abspath(f)+\"_tr\")\n",
    "        elif(f[14:16] == \"te\"):\n",
    "            folders.append(os.path.abspath(f)+\"_te\")\n",
    "\n",
    "print('Classes found {}'.format([os.path.split(x)[1] for x in folders]))\n"
   ]
  },
  {
   "cell_type": "code",
   "execution_count": 10,
   "metadata": {},
   "outputs": [
    {
     "output_type": "stream",
     "name": "stdout",
     "text": [
      "/home/matheuscosta/Workbench/XAI/dataset-split/val/Wart_\nInitialised with 10 image(s) found.\nOutput directory set to /home/matheuscosta/Workbench/XAI/dataset-split/val/Wart/../home/matheuscosta/Workbench/XAI/dataset-split/val/Melanocytic naevus_\nInitialised with 33 image(s) found.\nOutput directory set to /home/matheuscosta/Workbench/XAI/dataset-split/val/Melanocytic naevus/../home/matheuscosta/Workbench/XAI/dataset-split/val/Lentigo_\nInitialised with 8 image(s) found.\nOutput directory set to /home/matheuscosta/Workbench/XAI/dataset-split/val/Lentigo/../home/matheuscosta/Workbench/XAI/dataset-split/val/Pyogenic Granuloma_\nInitialised with 2 image(s) found.\nOutput directory set to /home/matheuscosta/Workbench/XAI/dataset-split/val/Pyogenic Granuloma/../home/matheuscosta/Workbench/XAI/dataset-split/val/Haemangioma_\nInitialised with 11 image(s) found.\nOutput directory set to /home/matheuscosta/Workbench/XAI/dataset-split/val/Haemangioma/../home/matheuscosta/Workbench/XAI/dataset-split/val/Squamous Cell Carcinoma_\nInitialised with 32 image(s) found.\nOutput directory set to /home/matheuscosta/Workbench/XAI/dataset-split/val/Squamous Cell Carcinoma/../home/matheuscosta/Workbench/XAI/dataset-split/val/Basal Cell Carcinoma_\nInitialised with 69 image(s) found.\nOutput directory set to /home/matheuscosta/Workbench/XAI/dataset-split/val/Basal Cell Carcinoma/../home/matheuscosta/Workbench/XAI/dataset-split/val/Dermatofibroma_\nInitialised with 10 image(s) found.\nOutput directory set to /home/matheuscosta/Workbench/XAI/dataset-split/val/Dermatofibroma/../home/matheuscosta/Workbench/XAI/dataset-split/val/seborrhoeic keratosis_\nInitialised with 25 image(s) found.\nOutput directory set to /home/matheuscosta/Workbench/XAI/dataset-split/val/seborrhoeic keratosis/../home/matheuscosta/Workbench/XAI/dataset-split/val/Malignant Melanoma_\nInitialised with 9 image(s) found.\nOutput directory set to /home/matheuscosta/Workbench/XAI/dataset-split/val/Malignant Melanoma/../home/matheuscosta/Workbench/XAI/dataset-split/val/Actinic Keratosis_\nInitialised with 3 image(s) found.\nOutput directory set to /home/matheuscosta/Workbench/XAI/dataset-split/val/Actinic Keratosis/../home/matheuscosta/Workbench/XAI/dataset-split/val/Intraepithelial Carcinoma_\nInitialised with 7 image(s) found.\nOutput directory set to /home/matheuscosta/Workbench/XAI/dataset-split/val/Intraepithelial Carcinoma/../home/matheuscosta/Workbench/XAI/dataset-split/train/Wart_\nInitialised with 90 image(s) found.\nOutput directory set to /home/matheuscosta/Workbench/XAI/dataset-split/train/Wart/../home/matheuscosta/Workbench/XAI/dataset-split/train/Melanocytic naevus_\nInitialised with 295 image(s) found.\nOutput directory set to /home/matheuscosta/Workbench/XAI/dataset-split/train/Melanocytic naevus/../home/matheuscosta/Workbench/XAI/dataset-split/train/Lentigo_\nInitialised with 72 image(s) found.\nOutput directory set to /home/matheuscosta/Workbench/XAI/dataset-split/train/Lentigo/../home/matheuscosta/Workbench/XAI/dataset-split/train/Pyogenic Granuloma_\nInitialised with 21 image(s) found.\nOutput directory set to /home/matheuscosta/Workbench/XAI/dataset-split/train/Pyogenic Granuloma/../home/matheuscosta/Workbench/XAI/dataset-split/train/Haemangioma_\nInitialised with 102 image(s) found.\nOutput directory set to /home/matheuscosta/Workbench/XAI/dataset-split/train/Haemangioma/../home/matheuscosta/Workbench/XAI/dataset-split/train/Squamous Cell Carcinoma_\nInitialised with 291 image(s) found.\nOutput directory set to /home/matheuscosta/Workbench/XAI/dataset-split/train/Squamous Cell Carcinoma/../home/matheuscosta/Workbench/XAI/dataset-split/train/Basal Cell Carcinoma_\nInitialised with 618 image(s) found.\nOutput directory set to /home/matheuscosta/Workbench/XAI/dataset-split/train/Basal Cell Carcinoma/../home/matheuscosta/Workbench/XAI/dataset-split/train/Dermatofibroma_\nInitialised with 94 image(s) found.\nOutput directory set to /home/matheuscosta/Workbench/XAI/dataset-split/train/Dermatofibroma/../home/matheuscosta/Workbench/XAI/dataset-split/train/seborrhoeic keratosis_\nInitialised with 229 image(s) found.\nOutput directory set to /home/matheuscosta/Workbench/XAI/dataset-split/train/seborrhoeic keratosis/../home/matheuscosta/Workbench/XAI/dataset-split/train/Malignant Melanoma_\nInitialised with 84 image(s) found.\nOutput directory set to /home/matheuscosta/Workbench/XAI/dataset-split/train/Malignant Melanoma/../home/matheuscosta/Workbench/XAI/dataset-split/train/Actinic Keratosis_\nInitialised with 30 image(s) found.\nOutput directory set to /home/matheuscosta/Workbench/XAI/dataset-split/train/Actinic Keratosis/../home/matheuscosta/Workbench/XAI/dataset-split/train/Intraepithelial Carcinoma_\nInitialised with 69 image(s) found.\nOutput directory set to /home/matheuscosta/Workbench/XAI/dataset-split/train/Intraepithelial Carcinoma/../home/matheuscosta/Workbench/XAI/dataset-split/test/Wart_\nInitialised with 2 image(s) found.\nOutput directory set to /home/matheuscosta/Workbench/XAI/dataset-split/test/Wart/../home/matheuscosta/Workbench/XAI/dataset-split/test/Melanocytic naevus_\nInitialised with 4 image(s) found.\nOutput directory set to /home/matheuscosta/Workbench/XAI/dataset-split/test/Melanocytic naevus/../home/matheuscosta/Workbench/XAI/dataset-split/test/Lentigo_\nInitialised with 1 image(s) found.\nOutput directory set to /home/matheuscosta/Workbench/XAI/dataset-split/test/Lentigo/../home/matheuscosta/Workbench/XAI/dataset-split/test/Pyogenic Granuloma_\nInitialised with 1 image(s) found.\nOutput directory set to /home/matheuscosta/Workbench/XAI/dataset-split/test/Pyogenic Granuloma/../home/matheuscosta/Workbench/XAI/dataset-split/test/Haemangioma_\nInitialised with 2 image(s) found.\nOutput directory set to /home/matheuscosta/Workbench/XAI/dataset-split/test/Haemangioma/../home/matheuscosta/Workbench/XAI/dataset-split/test/Squamous Cell Carcinoma_\nInitialised with 5 image(s) found.\nOutput directory set to /home/matheuscosta/Workbench/XAI/dataset-split/test/Squamous Cell Carcinoma/../home/matheuscosta/Workbench/XAI/dataset-split/test/Basal Cell Carcinoma_\nInitialised with 8 image(s) found.\nOutput directory set to /home/matheuscosta/Workbench/XAI/dataset-split/test/Basal Cell Carcinoma/../home/matheuscosta/Workbench/XAI/dataset-split/test/Dermatofibroma_\nInitialised with 2 image(s) found.\nOutput directory set to /home/matheuscosta/Workbench/XAI/dataset-split/test/Dermatofibroma/../home/matheuscosta/Workbench/XAI/dataset-split/test/seborrhoeic keratosis_\nInitialised with 4 image(s) found.\nOutput directory set to /home/matheuscosta/Workbench/XAI/dataset-split/test/seborrhoeic keratosis/../home/matheuscosta/Workbench/XAI/dataset-split/test/Malignant Melanoma_\nInitialised with 2 image(s) found.\nOutput directory set to /home/matheuscosta/Workbench/XAI/dataset-split/test/Malignant Melanoma/../home/matheuscosta/Workbench/XAI/dataset-split/test/Actinic Keratosis_\nInitialised with 1 image(s) found.\nOutput directory set to /home/matheuscosta/Workbench/XAI/dataset-split/test/Actinic Keratosis/../home/matheuscosta/Workbench/XAI/dataset-split/test/Intraepithelial Carcinoma_\nInitialised with 2 image(s) found.\nOutput directory set to /home/matheuscosta/Workbench/XAI/dataset-split/test/Intraepithelial Carcinoma/..Class 'Wart' has 10 samples\nClass 'Melanocytic naevus' has 33 samples\nClass 'Lentigo' has 8 samples\nClass 'Pyogenic Granuloma' has 2 samples\nClass 'Haemangioma' has 11 samples\nClass 'Squamous Cell Carcinoma' has 32 samples\nClass 'Basal Cell Carcinoma' has 69 samples\nClass 'Dermatofibroma' has 10 samples\nClass 'seborrhoeic keratosis' has 25 samples\nClass 'Malignant Melanoma' has 9 samples\nClass 'Actinic Keratosis' has 3 samples\nClass 'Intraepithelial Carcinoma' has 7 samples\nClass 'Wart' has 90 samples\nClass 'Melanocytic naevus' has 295 samples\nClass 'Lentigo' has 72 samples\nClass 'Pyogenic Granuloma' has 21 samples\nClass 'Haemangioma' has 102 samples\nClass 'Squamous Cell Carcinoma' has 291 samples\nClass 'Basal Cell Carcinoma' has 618 samples\nClass 'Dermatofibroma' has 94 samples\nClass 'seborrhoeic keratosis' has 229 samples\nClass 'Malignant Melanoma' has 84 samples\nClass 'Actinic Keratosis' has 30 samples\nClass 'Intraepithelial Carcinoma' has 69 samples\nClass 'Wart' has 2 samples\nClass 'Melanocytic naevus' has 4 samples\nClass 'Lentigo' has 1 samples\nClass 'Pyogenic Granuloma' has 1 samples\nClass 'Haemangioma' has 2 samples\nClass 'Squamous Cell Carcinoma' has 5 samples\nClass 'Basal Cell Carcinoma' has 8 samples\nClass 'Dermatofibroma' has 2 samples\nClass 'seborrhoeic keratosis' has 4 samples\nClass 'Malignant Melanoma' has 2 samples\nClass 'Actinic Keratosis' has 1 samples\nClass 'Intraepithelial Carcinoma' has 2 samples\n[10, 33, 8, 2, 11, 32, 69, 10, 25, 9, 3, 7, 90, 295, 72, 21, 102, 291, 618, 94, 229, 84, 30, 69, 2, 4, 1, 1, 2, 5, 8, 2, 4, 2, 1, 2]\n"
     ]
    }
   ],
   "source": [
    "pipelines = {}\n",
    "for folder in folders:\n",
    "    print(folder[:-2])\n",
    "    pipelines[os.path.split(folder)[1]] = \\\n",
    "        (aug.Pipeline(source_directory=folder[:-3],\n",
    "            output_directory='.',\n",
    "            save_format='jpg'\n",
    "            )\n",
    "        )\n",
    "\n",
    "classes_count = []\n",
    "for p in pipelines.values():\n",
    "    print(\"Class '{}' has {} samples\".format(\n",
    "        p.augmentor_images[0].class_label,\n",
    "        len(p.augmentor_images)\n",
    "    ))\n",
    "    classes_count.append(len(p.augmentor_images))\n",
    "\n",
    "print(classes_count)"
   ]
  },
  {
   "cell_type": "code",
   "execution_count": 11,
   "metadata": {},
   "outputs": [],
   "source": [
    "lightning = Lightning(probability=0.3)\n",
    "\n",
    "for p in pipelines.values():\n",
    "    p.rotate(probability=0.5, max_left_rotation=10, max_right_rotation=10)\n",
    "    # p.zoom_random(probability=0.4, percentage_area=0.9)\n",
    "    p.flip_random(probability=0.5)\n",
    "    p.flip_left_right(probability=0.7)\n",
    "    p.flip_top_bottom(probability=0.5)\n",
    "    p.shear(probability=0.5, max_shear_left=10, max_shear_right=10)\n",
    "    p.random_distortion(probability=0.8, grid_width=5, grid_height=5, magnitude=15)\n",
    "    p.add_operation(lightning)\n",
    "    p.resize(probability=1.0, width=IMAGE_SIZE, height=IMAGE_SIZE)"
   ]
  },
  {
   "cell_type": "code",
   "execution_count": 12,
   "metadata": {},
   "outputs": [
    {
     "output_type": "stream",
     "name": "stderr",
     "text": [
      "Processing <PIL.Image.Image image mode=RGB size=224x224 at 0x7F03BC5AA580>: 100%|██████████| 290/290 [00:00<00:00, 570.93 Samples/s]\n",
      "Processing <PIL.Image.Image image mode=RGB size=224x224 at 0x7F03AC118160>: 100%|██████████| 957/957 [00:01<00:00, 544.46 Samples/s]\n",
      "Processing <PIL.Image.Image image mode=RGB size=224x224 at 0x7F03BDE5F790>: 100%|██████████| 232/232 [00:00<00:00, 512.17 Samples/s]\n",
      "Processing <PIL.Image.Image image mode=RGB size=224x224 at 0x7F03BC5947F0>: 100%|██████████| 58/58 [00:00<00:00, 589.27 Samples/s]\n",
      "Processing <PIL.Image.Image image mode=RGB size=224x224 at 0x7F03BC5A8880>: 100%|██████████| 319/319 [00:00<00:00, 506.77 Samples/s]\n",
      "Processing <PIL.Image.Image image mode=RGB size=224x224 at 0x7F03BC4DE700>: 100%|██████████| 928/928 [00:01<00:00, 522.14 Samples/s] \n",
      "Processing <PIL.Image.Image image mode=RGB size=224x224 at 0x7F038C683910>: 100%|██████████| 2001/2001 [00:03<00:00, 523.16 Samples/s] \n",
      "Processing <PIL.Image.Image image mode=RGB size=224x224 at 0x7F036DD5DD90>: 100%|██████████| 290/290 [00:00<00:00, 586.66 Samples/s]\n",
      "Processing <PIL.Image.Image image mode=RGB size=224x224 at 0x7F03BC4D7F10>: 100%|██████████| 725/725 [00:01<00:00, 528.55 Samples/s]\n",
      "Processing <PIL.Image.Image image mode=RGB size=224x224 at 0x7F03BDE3A1C0>: 100%|██████████| 261/261 [00:00<00:00, 531.18 Samples/s]\n",
      "Processing <PIL.Image.Image image mode=RGB size=224x224 at 0x7F03BC5ABFD0>: 100%|██████████| 87/87 [00:00<00:00, 567.59 Samples/s]\n",
      "Processing <PIL.Image.Image image mode=RGB size=224x224 at 0x7F038C710F40>: 100%|██████████| 203/203 [00:00<00:00, 546.27 Samples/s]\n",
      "Processing <PIL.Image.Image image mode=RGB size=224x224 at 0x7F03BC3ED370>: 100%|██████████| 2610/2610 [00:05<00:00, 518.63 Samples/s] \n",
      "Processing <PIL.Image.Image image mode=RGB size=224x224 at 0x7F03AC51A6A0>: 100%|██████████| 8555/8555 [00:16<00:00, 518.35 Samples/s] \n",
      "Processing <PIL.Image.Image image mode=RGB size=224x224 at 0x7F03BC402FD0>: 100%|██████████| 2088/2088 [00:03<00:00, 531.18 Samples/s] \n",
      "Processing <PIL.Image.Image image mode=RGB size=224x224 at 0x7F03BC149F10>: 100%|██████████| 609/609 [00:01<00:00, 504.49 Samples/s]\n",
      "Processing <PIL.Image.Image image mode=RGB size=224x224 at 0x7F03BC51AF40>: 100%|██████████| 2958/2958 [00:05<00:00, 514.02 Samples/s] \n",
      "Processing <PIL.Image.Image image mode=RGB size=224x224 at 0x7F036DD8FF10>: 100%|██████████| 8439/8439 [00:16<00:00, 511.50 Samples/s] \n",
      "Processing <PIL.Image.Image image mode=RGB size=224x224 at 0x7F036DA971C0>: 100%|██████████| 17922/17922 [00:36<00:00, 494.73 Samples/s] \n",
      "Processing <PIL.Image.Image image mode=RGB size=224x224 at 0x7F03AC3B3130>: 100%|██████████| 2726/2726 [00:05<00:00, 527.69 Samples/s] \n",
      "Processing <PIL.Image.Image image mode=RGB size=224x224 at 0x7F03AC0CB640>: 100%|██████████| 6641/6641 [00:13<00:00, 502.97 Samples/s] \n",
      "Processing <PIL.Image.Image image mode=RGB size=224x224 at 0x7F036DAEB370>: 100%|██████████| 2436/2436 [00:04<00:00, 512.41 Samples/s] \n",
      "Processing <PIL.Image.Image image mode=RGB size=224x224 at 0x7F036DF56790>: 100%|██████████| 870/870 [00:01<00:00, 525.84 Samples/s]\n",
      "Processing <PIL.Image.Image image mode=RGB size=224x224 at 0x7F03AC2CCB20>: 100%|██████████| 2001/2001 [00:03<00:00, 507.09 Samples/s] \n",
      "Processing <PIL.Image.Image image mode=RGB size=224x224 at 0x7F03AC326040>: 100%|██████████| 58/58 [00:00<00:00, 512.88 Samples/s]\n",
      "Processing <PIL.Image.Image image mode=RGB size=224x224 at 0x7F03AC710160>: 100%|██████████| 116/116 [00:00<00:00, 508.47 Samples/s]\n",
      "Processing <PIL.Image.Image image mode=RGB size=224x224 at 0x7F03AC710A00>: 100%|██████████| 29/29 [00:00<00:00, 510.58 Samples/s]\n",
      "Processing <PIL.Image.Image image mode=RGB size=224x224 at 0x7F036DF668E0>: 100%|██████████| 29/29 [00:00<00:00, 586.54 Samples/s]\n",
      "Processing <PIL.Image.Image image mode=RGB size=224x224 at 0x7F03AC2D61F0>: 100%|██████████| 58/58 [00:00<00:00, 587.20 Samples/s]\n",
      "Processing <PIL.Image.Image image mode=RGB size=224x224 at 0x7F036DAEB130>: 100%|██████████| 145/145 [00:00<00:00, 550.22 Samples/s]\n",
      "Processing <PIL.Image.Image image mode=RGB size=224x224 at 0x7F036DAFAEB0>: 100%|██████████| 232/232 [00:00<00:00, 539.80 Samples/s]\n",
      "Processing <PIL.Image.Image image mode=RGB size=224x224 at 0x7F03AC7301C0>: 100%|██████████| 58/58 [00:00<00:00, 531.09 Samples/s]\n",
      "Processing <PIL.Image.Image image mode=RGB size=224x224 at 0x7F03AC2E3A60>: 100%|██████████| 116/116 [00:00<00:00, 525.64 Samples/s]\n",
      "Processing <PIL.Image.Image image mode=RGB size=224x224 at 0x7F03AC326E50>: 100%|██████████| 58/58 [00:00<00:00, 568.92 Samples/s]\n",
      "Processing <PIL.Image.Image image mode=RGB size=224x224 at 0x7F036DAFA880>: 100%|██████████| 29/29 [00:00<00:00, 529.95 Samples/s]\n",
      "Processing <PIL.Image.Image image mode=RGB size=224x224 at 0x7F03AC2E35E0>: 100%|██████████| 58/58 [00:00<00:00, 554.94 Samples/s]\n"
     ]
    }
   ],
   "source": [
    "SAME_SAMPLING = False\n",
    "MULTIPLIER = 29\n",
    "\n",
    "for p in pipelines.values():\n",
    "    if SAME_SAMPLING:\n",
    "        diff = max(classes_count) - len(p.augmentor_images)\n",
    "        p.sample((len(p.augmentor_images) + diff)*MULTIPLIER + diff)\n",
    "    else:\n",
    "        p.sample(len(p.augmentor_images)*MULTIPLIER)"
   ]
  }
 ],
 "metadata": {
  "kernelspec": {
   "display_name": "Python 3",
   "language": "python",
   "name": "python3"
  },
  "language_info": {
   "codemirror_mode": {
    "name": "ipython",
    "version": 3
   },
   "file_extension": ".py",
   "mimetype": "text/x-python",
   "name": "python",
   "nbconvert_exporter": "python",
   "pygments_lexer": "ipython3",
   "version": "3.8.6-final"
  }
 },
 "nbformat": 4,
 "nbformat_minor": 4
}