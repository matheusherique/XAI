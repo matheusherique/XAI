{
 "cells": [
  {
   "cell_type": "code",
   "execution_count": 6,
   "metadata": {},
   "outputs": [],
   "source": [
    "import os\n",
    "import glob\n",
    "import pandas as pd"
   ]
  },
  {
   "cell_type": "code",
   "execution_count": 7,
   "metadata": {},
   "outputs": [],
   "source": [
    "lesions = {\"Basal Cell Carcinoma\": 0, \n",
    "    \"Lentigo\": 1,\n",
    "    \"Malignant Melanoma\": 2, \n",
    "    \"Melanocytic naevus\": 3,\n",
    "    \"seborrhoeic keratosis\": 4,\n",
    "    \"Wart\": 5, \n",
    "    \"Actinic Keratosis\": 6,\n",
    "    \"Squamous Cell Carcinoma\": 7,\n",
    "    \"Intraepithelial Carcinoma\": 8, \n",
    "    \"Pyogenic Granuloma\": 9,\n",
    "    \"Haemangioma\": 10,\n",
    "    \"Dermatofibroma\": 11\n",
    "}"
   ]
  },
  {
   "cell_type": "code",
   "execution_count": 8,
   "metadata": {},
   "outputs": [],
   "source": [
    "folder_test=\"dataset-split/test/*/*.jpg\"\n",
    "folder_train=\"dataset-split/train/*/*.jpg\"\n"
   ]
  },
  {
   "cell_type": "code",
   "execution_count": 15,
   "metadata": {},
   "outputs": [],
   "source": [
    "def test_test_csv(folder):\n",
    "    resnet_augmented = folder[:-5] + \"/*/*.jpg\"\n",
    "\n",
    "    lession_list = []\n",
    "    img_list = []\n",
    "\n",
    "    for filename in glob.glob(folder):\n",
    "        folder, img = os.path.split(filename)\n",
    "        _, lession = os.path.split(folder)\n",
    "\n",
    "        lession_list.append(lesions[lession])\n",
    "        img_list.append(img[:-4])\n",
    "\n",
    "    print(img_list)\n",
    "\n",
    "    for filename in glob.glob(resnet_augmented):\n",
    "        folder, img = os.path.split(filename)\n",
    "        folder, _ = os.path.split(folder)\n",
    "        _, lession = os.path.split(folder)\n",
    "\n",
    "        lession_list.append(lesions[lession])\n",
    "        img_list.append(img[:-4])\n",
    "\n",
    "    data = {'id': img_list, 'label':lession_list}\n",
    "    \n",
    "    return pd.DataFrame(data=data)"
   ]
  },
  {
   "cell_type": "code",
   "execution_count": 16,
   "metadata": {
    "tags": []
   },
   "outputs": [
    {
     "output_type": "stream",
     "name": "stdout",
     "text": [
      "[]\n[]\n"
     ]
    }
   ],
   "source": [
    "test_test_csv(folder_test).to_csv(path_or_buf=\"./test.csv\")\n",
    "test_test_csv(folder_train).to_csv(path_or_buf=\"./train.csv\")"
   ]
  },
  {
   "cell_type": "code",
   "execution_count": null,
   "metadata": {},
   "outputs": [],
   "source": []
  }
 ],
 "metadata": {
  "kernelspec": {
   "display_name": "Python 3",
   "language": "python",
   "name": "python3"
  },
  "language_info": {
   "codemirror_mode": {
    "name": "ipython",
    "version": 3
   },
   "file_extension": ".py",
   "mimetype": "text/x-python",
   "name": "python",
   "nbconvert_exporter": "python",
   "pygments_lexer": "ipython3",
   "version": "3.8.6-final"
  }
 },
 "nbformat": 4,
 "nbformat_minor": 2
}