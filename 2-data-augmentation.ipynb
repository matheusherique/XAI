{
 "cells": [
  {
   "cell_type": "code",
   "execution_count": 1,
   "metadata": {},
   "outputs": [],
   "source": [
    "import Augmentor as aug\n",
    "import glob\n",
    "import os\n",
    "import numpy as np\n",
    "import cv2 as cv\n",
    "import PIL\n",
    "from Augmentor.Operations import Operation"
   ]
  },
  {
   "cell_type": "code",
   "execution_count": 2,
   "metadata": {},
   "outputs": [],
   "source": [
    "class Lightning(Operation):\n",
    "    def __init__(self, probability, intensity_low=0.7, intensity_high=1.2):\n",
    "        Operation.__init__(self, probability)\n",
    "        self.intensity_low = intensity_low\n",
    "        self.intensity_high = intensity_high\n",
    "\n",
    "    def perform_operation(self, images):\n",
    "        for i, image in enumerate(images):\n",
    "            image = np.array(image.convert('RGB'))\n",
    "            row, col, _ = image.shape\n",
    "            light_intensity = np.random.randint(\n",
    "                int(self.intensity_low * 100),\n",
    "                int(self.intensity_high * 100)\n",
    "            )\n",
    "            light_intensity /= 100\n",
    "\n",
    "            gaussian = 100 * np.random.random((row, col, 1))\n",
    "            gaussian = np.array(gaussian, dtype=np.uint8)\n",
    "            gaussian = np.concatenate((gaussian, gaussian, gaussian), axis=2)\n",
    "\n",
    "            image = cv2.addWeighted(image, light_intensity, gaussian, 0.25, 0)\n",
    "\n",
    "            image = PIL.Image.fromarray(image)\n",
    "            images[i] = image\n",
    "            \n",
    "        return images"
   ]
  },
  {
   "cell_type": "code",
   "execution_count": 8,
   "metadata": {},
   "outputs": [
    {
     "output_type": "stream",
     "name": "stdout",
     "text": [
      "Classes found ['Wart', 'Melanocytic naevus', 'Lentigo', 'Pyogenic Granuloma', 'Haemangioma', 'Squamous Cell Carcinoma', 'Basal Cell Carcinoma', 'Dermatofibroma', 'seborrhoeic keratosis', 'Malignant Melanoma', 'Actinic Keratosis', 'Intraepithelial Carcinoma']\n"
     ]
    }
   ],
   "source": [
    "DIRECTORIES = 'dataset/*'\n",
    "folders = []\n",
    "for f in glob.glob(DIRECTORIES):\n",
    "    if os.path.isdir(f):\n",
    "        folders.append(os.path.abspath(f))\n",
    "\n",
    "print('Classes found {}'.format([os.path.split(x)[1] for x in folders]))\n"
   ]
  },
  {
   "cell_type": "code",
   "execution_count": null,
   "metadata": {},
   "outputs": [],
   "source": []
  }
 ],
 "metadata": {
  "kernelspec": {
   "display_name": "Python 3",
   "language": "python",
   "name": "python3"
  },
  "language_info": {
   "codemirror_mode": {
    "name": "ipython",
    "version": 3
   },
   "file_extension": ".py",
   "mimetype": "text/x-python",
   "name": "python",
   "nbconvert_exporter": "python",
   "pygments_lexer": "ipython3",
   "version": "3.8.6-final"
  }
 },
 "nbformat": 4,
 "nbformat_minor": 4
}