{
 "cells": [
  {
   "cell_type": "markdown",
   "metadata": {},
   "source": [
    "   # Web Scrapping Images"
   ]
  },
  {
   "cell_type": "code",
   "execution_count": 1,
   "metadata": {},
   "outputs": [],
   "source": [
    "from selenium import webdriver\n",
    "from selenium.webdriver.common.keys import Keys\n",
    "import time\n",
    "import requests\n",
    "import re\n",
    "import os\n",
    "\n",
    "NO_RESULT = \"No results for that query\"\n",
    "\n",
    "lesions = [\"Basal Cell Carcinoma\", \n",
    "    \"Lentigo\",\n",
    "    \"Malignant Melanoma\", \n",
    "    \"Melanocytic naevus\",\n",
    "    \"seborrhoeic keratosis\",\n",
    "    \"Wart\", \n",
    "    \"Actinic Keratosis\",\n",
    "    \"Squamous Cell Carcinoma\",\n",
    "    \"Intraepithelial Carcinoma\", \n",
    "    \"Pyogenic Granuloma\",\n",
    "    \"Haemangioma\",\n",
    "    \"Dermatofibroma\"\n",
    "    ]"
   ]
  },
  {
   "cell_type": "code",
   "execution_count": 36,
   "metadata": {},
   "outputs": [],
   "source": [
    "driver = webdriver.Chrome('/usr/bin/chromedriver')"
   ]
  },
  {
   "cell_type": "markdown",
   "metadata": {},
   "source": [
    "## Get images from Dermnet NZ"
   ]
  },
  {
   "cell_type": "code",
   "execution_count": 6,
   "metadata": {},
   "outputs": [
    {
     "name": "stdout",
     "output_type": "stream",
     "text": [
      "https://dermnetnz.org/assets/Uploads/0692__FocusFillWzE1MCwxMTAsInkiLDFd.jpg\n",
      "https://dermnetnz.org/assets/Uploads/0633__FocusFillWzE1MCwxMTAsInkiLDIwXQ.jpg\n",
      "https://dermnetnz.org/assets/Uploads/0616__FocusFillWzE1MCwxMTAsInkiLDIwXQ.jpg\n",
      "https://dermnetnz.org/assets/Uploads/0629__FocusFillWzE1MCwxMTAsInkiLDIwXQ.jpg\n",
      "https://dermnetnz.org/assets/Uploads/0653__FocusFillWzE1MCwxMTAsInkiLDFd.jpg\n",
      "https://dermnetnz.org/assets/Uploads/nBCC3__FocusFillWzE1MCwxMTAsIngiLDdd.jpg\n",
      "https://dermnetnz.org/assets/Uploads/lentigo10-s__FocusFillWzE1MCwxMTAsInkiLDFd.jpg\n",
      "https://dermnetnz.org/assets/Uploads/lmm5-big2__FocusFillWzE1MCwxMTAsInkiLDFd.jpg\n",
      "https://dermnetnz.org/assets/Uploads/solar-lentigo-11-s__FocusFillWzE1MCwxMTAsInkiLDBd.jpg\n",
      "https://dermnetnz.org/assets/Uploads/12a-amelanotic-melanoma__FocusFillWzE1MCwxMTAsInkiLDFd.jpg\n",
      "https://dermnetnz.org/assets/Uploads/604__FocusFillWzE1MCwxMTAsInkiLDFd.jpg\n",
      "https://dermnetnz.org/assets/Uploads/sebk-dermoscopy31-s__FocusFillWzE1MCwxMTAsInkiLDFd.jpg\n",
      "https://dermnetnz.org/assets/Uploads/sebks21-s__FocusFillWzE1MCwxMTAsInkiLDFd.jpg\n",
      "https://dermnetnz.org/assets/Uploads/gw2-small2__FocusFillWzE1MCwxMTAsInkiLDE1XQ.jpg\n",
      "https://dermnetnz.org/assets/Uploads/viral-wart-23-s__FocusFillWzE1MCwxMTAsInkiLDFd.jpg\n",
      "https://dermnetnz.org/assets/Uploads/248__FocusFillWzE1MCwxMTAsInkiLDFd.jpg\n",
      "https://dermnetnz.org/assets/Uploads/393__FocusFillWzE1MCwxMTAsInkiLDFd.jpg\n",
      "https://dermnetnz.org/assets/Uploads/478__FocusFillWzE1MCwxMTAsInkiLDFd.jpg\n",
      "https://dermnetnz.org/assets/Uploads/418__FocusFillWzE1MCwxMTAsInkiLDFd.jpg\n",
      "https://dermnetnz.org/assets/Uploads/lesions/ak-face/actinic-keratosis-dermoscopy9__FocusFillWzE1MCwxMTAsInkiLDFd.jpg\n",
      "https://dermnetnz.org/assets/Uploads/sks-nose3-s__FocusFillWzE1MCwxMTAsInkiLDFd.jpg\n",
      "https://dermnetnz.org/assets/Uploads/3723__FocusFillWzE1MCwxMTAsInkiLDFd.jpg\n",
      "https://dermnetnz.org/assets/Uploads/2916__FocusFillWzE1MCwxMTAsInkiLDFd.jpg\n",
      "https://dermnetnz.org/assets/Uploads/3958__FocusFillWzE1MCwxMTAsInkiLDFd.jpg\n",
      "https://dermnetnz.org/assets/Uploads/3936__FocusFillWzE1MCwxMTAsInkiLDFd.jpg\n",
      "https://dermnetnz.org/assets/Uploads/3930__FocusFillWzE1MCwxMTAsInkiLDIwXQ.jpg\n",
      "https://dermnetnz.org/assets/Uploads/3938__FocusFillWzE1MCwxMTAsInkiLDIwXQ.jpg\n",
      "https://dermnetnz.org/assets/Uploads/ungual-scc2-s__FocusFillWzE1MCwxMTAsInkiLDFd.jpg\n",
      "https://dermnetnz.org/assets/Uploads/2400__FocusFillWzE1MCwxMTAsInkiLDFd.jpg\n"
     ]
    }
   ],
   "source": [
    "driver.get(\"https://dermnetnz.org/image-library/\")\n",
    "time.sleep(10)\n",
    "\n",
    "for lesion in lesions:\n",
    "    search_box = driver.find_element_by_xpath(\"//input[@placeholder='Search by disease...']\")\n",
    "    search_box.clear()\n",
    "    search_box.send_keys(lesion)\n",
    "    search_box.send_keys(Keys.RETURN)\n",
    "\n",
    "    try:\n",
    "        driver.implicitly_wait(5)\n",
    "        result = driver.find_element_by_css_selector(\"h3.colour--primary\").text\n",
    "    except:\n",
    "        pass\n",
    "    \n",
    "    list_regex = []\n",
    "\n",
    "    for i in driver.find_elements_by_xpath(\"/html/body/div[4]/div[5]/div/div/div[1]/div[2]/div\"):\n",
    "        inner_html = i.get_attribute('innerHTML')\n",
    "        regex = re.findall(r'src=\"(.*?)\\\"',inner_html)\n",
    "        if regex:\n",
    "            for link in regex:\n",
    "                list_regex.append(link)\n",
    "                \n",
    "\n",
    "    if not os.path.exists(\"dataset/\"+ lesion):\n",
    "        os.makedirs('dataset/' + lesion)\n",
    "        \n",
    "    plist_regex\n",
    "        \n",
    "    for i, url in enumerate(list_regex):\n",
    "        image = requests.get(url, allow_redirects=True)\n",
    "        open(\"dataset/\" + lesion + \"/nz-\"+ str(i) + '.jpg', 'wb').write(image.content)"
   ]
  },
  {
   "cell_type": "markdown",
   "metadata": {},
   "source": [
    "## Get images from DermIS"
   ]
  },
  {
   "cell_type": "code",
   "execution_count": 37,
   "metadata": {},
   "outputs": [
    {
     "name": "stdout",
     "output_type": "stream",
     "text": [
      "['https://www.dermis.net/dermisroot/en/19081/diagnose.htm', 'https://www.dermis.net/dermisroot/en/18967/diagnose.htm', 'https://www.dermis.net/dermisroot/en/18406/diagnose.htm']\n",
      "https://www.dermis.net/dermisroot/en/19081/diagnose.htm\n",
      "https://www.dermis.net/dermisroot/en/18967/diagnose.htm\n",
      "https://www.dermis.net/dermisroot/en/18406/diagnose.htm\n",
      "145\n",
      "['https://www.dermis.net/dermisroot/en/18065/diagnose.htm', 'https://www.dermis.net/dermisroot/en/23148/diagnose.htm', 'https://www.dermis.net/dermisroot/en/37608/diagnose.htm']\n",
      "https://www.dermis.net/dermisroot/en/18065/diagnose.htm\n",
      "https://www.dermis.net/dermisroot/en/23148/diagnose.htm\n",
      "https://www.dermis.net/dermisroot/en/37608/diagnose.htm\n",
      "56\n",
      "['https://www.dermis.net/dermisroot/en/18195/diagnose.htm']\n",
      "https://www.dermis.net/dermisroot/en/18195/diagnose.htm\n",
      "18\n",
      "[]\n",
      "0\n",
      "[]\n",
      "0\n",
      "[]\n",
      "0\n",
      "['https://www.dermis.net/dermisroot/en/35352/diagnose.htm']\n",
      "https://www.dermis.net/dermisroot/en/35352/diagnose.htm\n",
      "27\n",
      "['https://www.dermis.net/dermisroot/en/19624/diagnose.htm', 'https://www.dermis.net/dermisroot/en/19601/diagnose.htm', 'https://www.dermis.net/dermisroot/en/19297/diagnose.htm']\n",
      "https://www.dermis.net/dermisroot/en/19624/diagnose.htm\n",
      "https://www.dermis.net/dermisroot/en/19601/diagnose.htm\n",
      "https://www.dermis.net/dermisroot/en/19297/diagnose.htm\n",
      "102\n",
      "[]\n",
      "0\n",
      "[]\n",
      "0\n",
      "[]\n",
      "0\n",
      "['https://www.dermis.net/dermisroot/en/22350/diagnose.htm']\n",
      "https://www.dermis.net/dermisroot/en/22350/diagnose.htm\n",
      "15\n"
     ]
    }
   ],
   "source": [
    "driver.get(\"https://www.dermis.net/dermisroot/en/home/index.htm\")\n",
    "\n",
    "for lesion in lesions: \n",
    "    print(lesion)\n",
    "    search_box = driver.find_element_by_id(\"btnSearch\")\n",
    "    search_box.clear()\n",
    "    search_box.send_keys(lesion)\n",
    "    driver.find_element_by_class_name(\"searchbutton\").click()\n",
    "\n",
    "    list_images_links = []\n",
    "\n",
    "    for i in driver.find_elements_by_xpath(\"//*[@id='ctl00_Main_pnlSearchControl']/tbody/tr/td/table/tbody/tr/td/ul\"):\n",
    "        inner_html = i.get_attribute('innerHTML')\n",
    "        regex = re.findall(r'href=\"(.*?)\\\"',inner_html)\n",
    "        if regex:\n",
    "            for link in regex:\n",
    "                site = \"https://www.dermis.net/dermisroot/en\" + link[5:]\n",
    "                list_images_links.append(site)\n",
    "\n",
    "    list_images = []\n",
    "\n",
    "    for i in list_images_links:\n",
    "        driver.get(i)\n",
    "\n",
    "        for j in driver.find_elements_by_xpath(\"//*[@id='ctl00_Main_pnlSearchControl']/tbody/tr/td/table/tbody/tr/td/table[@class='diagnoseThumbs']/tbody/tr[3]/td\"):\n",
    "            inner_html = j.get_attribute('innerHTML')\n",
    "            regex = re.findall(r'src=\"(.*?)\\\"',inner_html)\n",
    "            for link in regex:\n",
    "                site = \"https://www.dermis.net/\" + link[9:]\n",
    "                text = site.replace(\"100px\", \"550px\")\n",
    "                list_images.append(text)\n",
    "\n",
    "    print(len(list_images))\n",
    "\n",
    "    for i, url in enumerate(list_images):\n",
    "            image = requests.get(url, allow_redirects=True)\n",
    "            open(\"dataset/\" + lesion + \"/is-\" + str(i) + '.jpg', 'wb').write(image.content)"
   ]
  },
  {
   "cell_type": "code",
   "execution_count": null,
   "metadata": {},
   "outputs": [],
   "source": []
  }
 ],
 "metadata": {
  "kernelspec": {
   "display_name": "Python 3",
   "language": "python",
   "name": "python3"
  },
  "language_info": {
   "codemirror_mode": {
    "name": "ipython",
    "version": 3
   },
   "file_extension": ".py",
   "mimetype": "text/x-python",
   "name": "python",
   "nbconvert_exporter": "python",
   "pygments_lexer": "ipython3",
   "version": "3.8.2"
  }
 },
 "nbformat": 4,
 "nbformat_minor": 4
}
