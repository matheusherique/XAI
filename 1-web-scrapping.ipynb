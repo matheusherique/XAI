{
 "cells": [
  {
   "cell_type": "markdown",
   "metadata": {},
   "source": [
    "   # Web Scrapping Images"
   ]
  },
  {
   "cell_type": "code",
   "execution_count": 1,
   "metadata": {},
   "outputs": [],
   "source": [
    "from selenium import webdriver\n",
    "from selenium.webdriver.common.keys import Keys\n",
    "import time\n",
    "import requests\n",
    "import re\n",
    "import os\n",
    "\n",
    "NO_RESULT = \"No results for that query\"\n",
    "\n",
    "lesions = [\"Basal Cell Carcinoma\", \n",
    "    \"Lentigo\",\n",
    "    \"Malignant Melanoma\", \n",
    "    \"Melanocytic naevus\",\n",
    "    \"seborrhoeic keratosis\",\n",
    "    \"Wart\", \n",
    "    \"Actinic Keratosis\",\n",
    "    \"Squamous Cell Carcinoma\",\n",
    "    \"Intraepithelial Carcinoma\", \n",
    "    \"Pyogenic Granuloma\",\n",
    "    \"Haemangioma\",\n",
    "    \"Dermatofibroma\"\n",
    "    ]"
   ]
  },
  {
   "cell_type": "code",
   "execution_count": 3,
   "metadata": {},
   "outputs": [],
   "source": [
    "driver = webdriver.Chrome('/usr/bin/chromedriver')"
   ]
  },
  {
   "cell_type": "markdown",
   "metadata": {},
   "source": [
    "## Get images from Dermnet NZ"
   ]
  },
  {
   "cell_type": "code",
   "execution_count": 4,
   "metadata": {},
   "outputs": [
    {
     "name": "stdout",
     "output_type": "stream",
     "text": [
      "Basal Cell Carcinoma\n",
      "6\n",
      "Lentigo\n",
      "3\n",
      "Malignant Melanoma\n",
      "1\n",
      "Melanocytic naevus\n",
      "1\n",
      "seborrhoeic keratosis\n",
      "2\n",
      "Wart\n",
      "2\n",
      "Actinic Keratosis\n",
      "7\n",
      "Squamous Cell Carcinoma\n",
      "6\n",
      "Intraepithelial Carcinoma\n",
      "No results for that query\n",
      "Pyogenic Granuloma\n",
      "No results for that query\n",
      "Haemangioma\n",
      "No results for that query\n",
      "Dermatofibroma\n",
      "1\n"
     ]
    }
   ],
   "source": [
    "driver.get(\"https://dermnetnz.org/image-library/\")\n",
    "time.sleep(10)\n",
    "\n",
    "for lesion in lesions:\n",
    "    print(lesion)\n",
    "    search_box = driver.find_element_by_xpath(\"//input[@placeholder='Search by disease...']\")\n",
    "    search_box.clear()\n",
    "    search_box.send_keys(lesion)\n",
    "    search_box.send_keys(Keys.RETURN)\n",
    "\n",
    "    try:\n",
    "        driver.implicitly_wait(5)\n",
    "        result = driver.find_element_by_css_selector(\"h3.colour--primary\").text\n",
    "        print(result)\n",
    "        continue\n",
    "    except:\n",
    "        pass\n",
    "    \n",
    "    list_regex = []\n",
    "\n",
    "    for i in driver.find_elements_by_xpath(\"/html/body/div[4]/div[5]/div/div/div[1]/div[2]/div\"):\n",
    "        inner_html = i.get_attribute('innerHTML')\n",
    "        regex = re.findall(r'src=\"(.*?)\\\"',inner_html)\n",
    "        if regex:\n",
    "            for link in regex:\n",
    "                list_regex.append(link)\n",
    "                \n",
    "\n",
    "    if not os.path.exists(\"dataset/\"+ lesion):\n",
    "        os.makedirs('dataset/' + lesion)\n",
    "        \n",
    "    print(len(list_regex))\n",
    "        \n",
    "    for i, url in enumerate(list_regex):\n",
    "        image = requests.get(url, allow_redirects=True)\n",
    "        open(\"dataset/\" + lesion + \"/nz-\"+ str(i) + '.jpg', 'wb').write(image.content)"
   ]
  },
  {
   "cell_type": "markdown",
   "metadata": {},
   "source": [
    "## Get images from DermIS"
   ]
  },
  {
   "cell_type": "code",
   "execution_count": 5,
   "metadata": {},
   "outputs": [
    {
     "name": "stdout",
     "output_type": "stream",
     "text": [
      "Basal Cell Carcinoma\n",
      "145\n",
      "Lentigo\n",
      "56\n",
      "Malignant Melanoma\n",
      "18\n",
      "Melanocytic naevus\n",
      "0\n",
      "seborrhoeic keratosis\n",
      "0\n",
      "Wart\n",
      "0\n",
      "Actinic Keratosis\n",
      "27\n",
      "Squamous Cell Carcinoma\n",
      "102\n",
      "Intraepithelial Carcinoma\n",
      "0\n",
      "Pyogenic Granuloma\n",
      "0\n",
      "Haemangioma\n",
      "0\n",
      "Dermatofibroma\n",
      "15\n"
     ]
    }
   ],
   "source": [
    "driver.get(\"https://www.dermis.net/dermisroot/en/home/index.htm\")\n",
    "\n",
    "for lesion in lesions: \n",
    "    print(lesion)\n",
    "    search_box = driver.find_element_by_id(\"btnSearch\")\n",
    "    search_box.clear()\n",
    "    search_box.send_keys(lesion)\n",
    "    driver.find_element_by_class_name(\"searchbutton\").click()\n",
    "\n",
    "    list_images_links = []\n",
    "\n",
    "    for i in driver.find_elements_by_xpath(\"//*[@id='ctl00_Main_pnlSearchControl']/tbody/tr/td/table/tbody/tr/td/ul\"):\n",
    "        inner_html = i.get_attribute('innerHTML')\n",
    "        regex = re.findall(r'href=\"(.*?)\\\"',inner_html)\n",
    "        if regex:\n",
    "            for link in regex:\n",
    "                site = \"https://www.dermis.net/dermisroot/en\" + link[5:]\n",
    "                list_images_links.append(site)\n",
    "\n",
    "    list_images = []\n",
    "\n",
    "    for i in list_images_links:\n",
    "        driver.get(i)\n",
    "\n",
    "        for j in driver.find_elements_by_xpath(\"//*[@id='ctl00_Main_pnlSearchControl']/tbody/tr/td/table/tbody/tr/td/table[@class='diagnoseThumbs']/tbody/tr[3]/td\"):\n",
    "            inner_html = j.get_attribute('innerHTML')\n",
    "            regex = re.findall(r'src=\"(.*?)\\\"',inner_html)\n",
    "            for link in regex:\n",
    "                site = \"https://www.dermis.net/\" + link[9:]\n",
    "                text = site.replace(\"100px\", \"550px\")\n",
    "                list_images.append(text)\n",
    "\n",
    "    print(len(list_images))\n",
    "    \n",
    "    if not os.path.exists(\"dataset/\"+ lesion):\n",
    "        os.makedirs('dataset/' + lesion)\n",
    "\n",
    "    for i, url in enumerate(list_images):\n",
    "        image = requests.get(url, allow_redirects=True)\n",
    "        open(\"dataset/\" + lesion + \"/is-\" + str(i) + '.jpg', 'wb').write(image.content)"
   ]
  },
  {
   "cell_type": "markdown",
   "metadata": {},
   "source": [
    "## Get images from Atlas Dermatológico"
   ]
  },
  {
   "cell_type": "code",
   "execution_count": 6,
   "metadata": {},
   "outputs": [
    {
     "name": "stdout",
     "output_type": "stream",
     "text": [
      "Basal Cell Carcinoma\n",
      "319\n",
      "Lentigo\n",
      "22\n",
      "Malignant Melanoma\n",
      "No records found.\n",
      "Melanocytic naevus\n",
      "No records found.\n",
      "seborrhoeic keratosis\n",
      "No records found.\n",
      "Wart\n",
      "100\n",
      "Actinic Keratosis\n",
      "No records found.\n",
      "Squamous Cell Carcinoma\n",
      "132\n",
      "Intraepithelial Carcinoma\n",
      "No records found.\n",
      "Pyogenic Granuloma\n",
      "No records found.\n",
      "Haemangioma\n",
      "18\n",
      "Dermatofibroma\n",
      "25\n"
     ]
    }
   ],
   "source": [
    "driver.get(\"http://www.atlasdermatologico.com.br/\")\n",
    "\n",
    "for lesion in lesions:\n",
    "    print(lesion)\n",
    "    try:\n",
    "        search_box = driver.find_element_by_id(\"j_idt12:search_input\")\n",
    "    except:\n",
    "        search_box = driver.find_element_by_id(\"j_idt13:search_input\")\n",
    "    search_box.clear()\n",
    "    search_box.send_keys(lesion)\n",
    "    search_box.send_keys(Keys.RETURN)\n",
    "\n",
    "    try:\n",
    "        result = driver.find_element_by_class_name(\"ui-datalist-empty-message\").text\n",
    "        print(result)\n",
    "        continue\n",
    "    except:\n",
    "        pass\n",
    "\n",
    "\n",
    "    list_lesion_links = []\n",
    "    for i in driver.find_elements_by_xpath(\"//*[@id='j_idt23_list']\"):\n",
    "        inner_html = i.get_attribute('innerHTML')\n",
    "        regex = re.findall(r'href=\"(.*?)\\\"',inner_html)\n",
    "        for link in regex:\n",
    "            site = \"http://www.atlasdermatologico.com.br\" + link\n",
    "            list_lesion_links.append(site)\n",
    "\n",
    "    list_image_links = []\n",
    "    for i in list_lesion_links:\n",
    "        driver.get(i)\n",
    "\n",
    "        for j in driver.find_elements_by_id(\"j_idt24\"):\n",
    "            inner_html = j.get_attribute('innerHTML')\n",
    "            regex = re.findall(r'href=\"(.*?)\\\"',inner_html)\n",
    "            for image in regex:\n",
    "                site = \"http://www.atlasdermatologico.com.br/\" + image\n",
    "                list_image_links.append(site)\n",
    "\n",
    "    print(len(list_image_links))\n",
    "    \n",
    "    if not os.path.exists(\"dataset/\"+ lesion):\n",
    "        os.makedirs('dataset/' + lesion)\n",
    "\n",
    "    for i, url in enumerate(list_image_links):\n",
    "        image = requests.get(url, allow_redirects=True)\n",
    "        open(\"dataset/\" + lesion + \"/ad-\" + str(i) + '.jpg', 'wb').write(image.content)\n"
   ]
  },
  {
   "cell_type": "code",
   "execution_count": null,
   "metadata": {},
   "outputs": [],
   "source": []
  },
  {
   "cell_type": "code",
   "execution_count": null,
   "metadata": {},
   "outputs": [],
   "source": []
  },
  {
   "cell_type": "code",
   "execution_count": null,
   "metadata": {},
   "outputs": [],
   "source": []
  }
 ],
 "metadata": {
  "kernelspec": {
   "display_name": "Python 3",
   "language": "python",
   "name": "python3"
  },
  "language_info": {
   "codemirror_mode": {
    "name": "ipython",
    "version": 3
   },
   "file_extension": ".py",
   "mimetype": "text/x-python",
   "name": "python",
   "nbconvert_exporter": "python",
   "pygments_lexer": "ipython3",
   "version": "3.8.6"
  }
 },
 "nbformat": 4,
 "nbformat_minor": 4
}
