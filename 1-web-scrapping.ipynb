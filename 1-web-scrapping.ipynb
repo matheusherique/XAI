{
 "cells": [
  {
   "cell_type": "markdown",
   "metadata": {},
   "source": [
    "   # Web Scrapping Images"
   ]
  },
  {
   "cell_type": "code",
   "execution_count": 34,
   "metadata": {},
   "outputs": [],
   "source": [
    "from selenium import webdriver\n",
    "import re\n",
    "\n",
    "NO_RESULT = \"No results for that query\"\n",
    "\n",
    "lesions = [\"Basal Cell Carcinoma\", \n",
    "    \"Lentigo\",\n",
    "    \"Malignant Melanoma\", \n",
    "    \"Melanocytic naevus\",\n",
    "    \"seborrhoeic keratosis\",\n",
    "    \"Wart\", \n",
    "    \"Actinic Keratosis\",\n",
    "    \"Squamous Cell Carcinoma\",\n",
    "    \"Intraepithelial Carcinoma\", \n",
    "    \"Pyogenic Granuloma\",\n",
    "    \"Haemangioma\",\n",
    "    \"Dermatofibroma\"\n",
    "    ]"
   ]
  },
  {
   "cell_type": "code",
   "execution_count": 35,
   "metadata": {},
   "outputs": [],
   "source": [
    "driver = webdriver.Chrome('/usr/bin/chromedriver')"
   ]
  },
  {
   "cell_type": "markdown",
   "metadata": {},
   "source": [
    "## Get images from Dermnet NZ"
   ]
  },
  {
   "cell_type": "code",
   "execution_count": 36,
   "metadata": {},
   "outputs": [
    {
     "name": "stdout",
     "output_type": "stream",
     "text": [
      "No results for that query\n"
     ]
    }
   ],
   "source": [
    "driver.get(\"https://dermnetnz.org/image-library/\")\n",
    "search_box = driver.find_element_by_xpath(\"//input[@placeholder='Search by disease...']\")\n",
    "search_box.send_keys('Basal Cell Carcinoma')\n",
    "search_box.click()\n",
    "\n",
    "try:\n",
    "    result = driver.find_element_by_css_selector(\"h3.colour--primary\").text\n",
    "except:\n",
    "    pass\n",
    "print(result)"
   ]
  },
  {
   "cell_type": "code",
   "execution_count": 61,
   "metadata": {},
   "outputs": [
    {
     "name": "stdout",
     "output_type": "stream",
     "text": [
      "['https://dermnetnz.org/assets/Uploads/0692__FocusFillWzE1MCwxMTAsInkiLDFd.jpg', 'https://dermnetnz.org/assets/Uploads/0633__FocusFillWzE1MCwxMTAsInkiLDIwXQ.jpg', 'https://dermnetnz.org/assets/Uploads/0616__FocusFillWzE1MCwxMTAsInkiLDIwXQ.jpg', 'https://dermnetnz.org/assets/Uploads/0629__FocusFillWzE1MCwxMTAsInkiLDIwXQ.jpg', 'https://dermnetnz.org/assets/Uploads/0653__FocusFillWzE1MCwxMTAsInkiLDFd.jpg', 'https://dermnetnz.org/assets/Uploads/nBCC3__FocusFillWzE1MCwxMTAsIngiLDdd.jpg']\n"
     ]
    }
   ],
   "source": [
    "import re \n",
    "\n",
    "list_regex = []\n",
    "\n",
    "for i in driver.find_elements_by_xpath(\"/html/body/div[4]/div[5]/div/div/div[1]/div[2]/div\"):\n",
    "    inner_html = i.get_attribute('innerHTML')\n",
    "    links = re.findall(r'src=\"(.*?)\\\"',inner_html)\n",
    "    if not r1:\n",
    "        for link in links:\n",
    "            list_regex.append(link)\n",
    "\n",
    "print(list_regex)\n"
   ]
  },
  {
   "cell_type": "code",
   "execution_count": 66,
   "metadata": {},
   "outputs": [],
   "source": [
    "import os\n",
    "\n",
    "if not os.path.exists('dataset/'+ \"Basal Cell Carcinoma\"):\n",
    "    os.makedirs('dataset/' + \"Basal Cell Carcinoma\")"
   ]
  },
  {
   "cell_type": "code",
   "execution_count": 67,
   "metadata": {},
   "outputs": [],
   "source": [
    "import requests"
   ]
  },
  {
   "cell_type": "code",
   "execution_count": 68,
   "metadata": {},
   "outputs": [],
   "source": [
    "for i, url in enumerate(list_regex):\n",
    "    r = requests.get(url, allow_redirects=True)\n",
    "    open(\"dataset/Basal Cell Carcinoma/\"+ str(i) + '.jpg', 'wb').write(r.content)"
   ]
  },
  {
   "cell_type": "code",
   "execution_count": null,
   "metadata": {},
   "outputs": [],
   "source": []
  }
 ],
 "metadata": {
  "kernelspec": {
   "display_name": "Python 3",
   "language": "python",
   "name": "python3"
  },
  "language_info": {
   "codemirror_mode": {
    "name": "ipython",
    "version": 3
   },
   "file_extension": ".py",
   "mimetype": "text/x-python",
   "name": "python",
   "nbconvert_exporter": "python",
   "pygments_lexer": "ipython3",
   "version": "3.8.2"
  }
 },
 "nbformat": 4,
 "nbformat_minor": 4
}
