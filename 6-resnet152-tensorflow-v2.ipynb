{
 "cells": [
  {
   "cell_type": "code",
   "execution_count": 1,
   "metadata": {},
   "outputs": [
    {
     "name": "stdout",
     "output_type": "stream",
     "text": [
      "Requirement already satisfied: pandas in /usr/local/lib/python3.6/dist-packages (1.1.5)\n",
      "Requirement already satisfied: pytz>=2017.2 in /usr/local/lib/python3.6/dist-packages (from pandas) (2021.1)\n",
      "Requirement already satisfied: numpy>=1.15.4 in /usr/local/lib/python3.6/dist-packages (from pandas) (1.19.5)\n",
      "Requirement already satisfied: python-dateutil>=2.7.3 in /usr/local/lib/python3.6/dist-packages (from pandas) (2.8.1)\n",
      "Requirement already satisfied: six>=1.5 in /usr/local/lib/python3.6/dist-packages (from python-dateutil>=2.7.3->pandas) (1.15.0)\n",
      "\u001b[33mWARNING: You are using pip version 20.2.4; however, version 21.0.1 is available.\n",
      "You should consider upgrading via the '/usr/bin/python3 -m pip install --upgrade pip' command.\u001b[0m\n",
      "\u001b[33mWARNING: You are using pip version 20.2.4; however, version 21.0.1 is available.\n",
      "You should consider upgrading via the '/usr/bin/python3 -m pip install --upgrade pip' command.\u001b[0m\n",
      "Requirement already satisfied: numpy in /usr/local/lib/python3.6/dist-packages (1.19.5)\n",
      "Requirement already satisfied: scipy in /usr/local/lib/python3.6/dist-packages (1.5.4)\n",
      "Requirement already satisfied: matplotlib in /usr/local/lib/python3.6/dist-packages (3.3.3)\n",
      "Requirement already satisfied: ipython in /usr/local/lib/python3.6/dist-packages (7.16.1)\n",
      "Requirement already satisfied: jupyter in /usr/local/lib/python3.6/dist-packages (1.0.0)\n",
      "Requirement already satisfied: pandas in /usr/local/lib/python3.6/dist-packages (1.1.5)\n",
      "Requirement already satisfied: sympy in /root/.local/lib/python3.6/site-packages (1.7.1)\n",
      "Requirement already satisfied: nose in /root/.local/lib/python3.6/site-packages (1.3.7)\n",
      "Requirement already satisfied: pillow>=6.2.0 in /usr/local/lib/python3.6/dist-packages (from matplotlib) (8.1.0)\n",
      "Requirement already satisfied: python-dateutil>=2.1 in /usr/local/lib/python3.6/dist-packages (from matplotlib) (2.8.1)\n",
      "Requirement already satisfied: cycler>=0.10 in /usr/local/lib/python3.6/dist-packages (from matplotlib) (0.10.0)\n",
      "Requirement already satisfied: pyparsing!=2.0.4,!=2.1.2,!=2.1.6,>=2.0.3 in /usr/local/lib/python3.6/dist-packages (from matplotlib) (2.4.7)\n",
      "Requirement already satisfied: kiwisolver>=1.0.1 in /usr/local/lib/python3.6/dist-packages (from matplotlib) (1.3.1)\n",
      "Requirement already satisfied: pickleshare in /usr/local/lib/python3.6/dist-packages (from ipython) (0.7.5)\n",
      "Requirement already satisfied: pexpect; sys_platform != \"win32\" in /usr/local/lib/python3.6/dist-packages (from ipython) (4.8.0)\n",
      "Requirement already satisfied: traitlets>=4.2 in /usr/local/lib/python3.6/dist-packages (from ipython) (4.3.3)\n",
      "Requirement already satisfied: decorator in /usr/local/lib/python3.6/dist-packages (from ipython) (4.4.2)\n",
      "Requirement already satisfied: backcall in /usr/local/lib/python3.6/dist-packages (from ipython) (0.2.0)\n",
      "Requirement already satisfied: prompt-toolkit!=3.0.0,!=3.0.1,<3.1.0,>=2.0.0 in /usr/local/lib/python3.6/dist-packages (from ipython) (3.0.13)\n",
      "Requirement already satisfied: jedi>=0.10 in /usr/local/lib/python3.6/dist-packages (from ipython) (0.18.0)\n",
      "Requirement already satisfied: setuptools>=18.5 in /usr/local/lib/python3.6/dist-packages (from ipython) (51.3.3)\n",
      "Requirement already satisfied: pygments in /usr/local/lib/python3.6/dist-packages (from ipython) (2.7.4)\n",
      "Requirement already satisfied: ipykernel in /usr/local/lib/python3.6/dist-packages (from jupyter) (5.1.1)\n",
      "Requirement already satisfied: ipywidgets in /usr/local/lib/python3.6/dist-packages (from jupyter) (7.6.3)\n",
      "Requirement already satisfied: qtconsole in /usr/local/lib/python3.6/dist-packages (from jupyter) (5.0.2)\n",
      "Requirement already satisfied: jupyter-console in /usr/local/lib/python3.6/dist-packages (from jupyter) (6.2.0)\n",
      "Requirement already satisfied: nbconvert in /usr/local/lib/python3.6/dist-packages (from jupyter) (6.0.7)\n",
      "Requirement already satisfied: notebook in /usr/local/lib/python3.6/dist-packages (from jupyter) (6.2.0)\n",
      "Requirement already satisfied: pytz>=2017.2 in /usr/local/lib/python3.6/dist-packages (from pandas) (2021.1)\n",
      "Requirement already satisfied: mpmath>=0.19 in /root/.local/lib/python3.6/site-packages (from sympy) (1.2.1)\n",
      "Requirement already satisfied: six>=1.5 in /usr/local/lib/python3.6/dist-packages (from python-dateutil>=2.1->matplotlib) (1.15.0)\n",
      "Requirement already satisfied: ptyprocess>=0.5 in /usr/local/lib/python3.6/dist-packages (from pexpect; sys_platform != \"win32\"->ipython) (0.7.0)\n",
      "Requirement already satisfied: ipython-genutils in /usr/local/lib/python3.6/dist-packages (from traitlets>=4.2->ipython) (0.2.0)\n",
      "Requirement already satisfied: wcwidth in /usr/local/lib/python3.6/dist-packages (from prompt-toolkit!=3.0.0,!=3.0.1,<3.1.0,>=2.0.0->ipython) (0.2.5)\n",
      "Requirement already satisfied: parso<0.9.0,>=0.8.0 in /usr/local/lib/python3.6/dist-packages (from jedi>=0.10->ipython) (0.8.1)\n",
      "Requirement already satisfied: tornado>=4.2 in /usr/local/lib/python3.6/dist-packages (from ipykernel->jupyter) (6.1)\n",
      "Requirement already satisfied: jupyter-client in /usr/local/lib/python3.6/dist-packages (from ipykernel->jupyter) (6.1.11)\n",
      "Requirement already satisfied: nbformat>=4.2.0 in /usr/local/lib/python3.6/dist-packages (from ipywidgets->jupyter) (4.4.0)\n",
      "Requirement already satisfied: widgetsnbextension~=3.5.0 in /usr/local/lib/python3.6/dist-packages (from ipywidgets->jupyter) (3.5.1)\n",
      "Requirement already satisfied: jupyterlab-widgets>=1.0.0; python_version >= \"3.6\" in /usr/local/lib/python3.6/dist-packages (from ipywidgets->jupyter) (1.0.0)\n",
      "Requirement already satisfied: pyzmq>=17.1 in /usr/local/lib/python3.6/dist-packages (from qtconsole->jupyter) (21.0.1)\n",
      "Requirement already satisfied: jupyter-core in /usr/local/lib/python3.6/dist-packages (from qtconsole->jupyter) (4.7.0)\n",
      "Requirement already satisfied: qtpy in /usr/local/lib/python3.6/dist-packages (from qtconsole->jupyter) (1.9.0)\n",
      "Requirement already satisfied: mistune<2,>=0.8.1 in /usr/local/lib/python3.6/dist-packages (from nbconvert->jupyter) (0.8.4)\n",
      "Requirement already satisfied: testpath in /usr/local/lib/python3.6/dist-packages (from nbconvert->jupyter) (0.4.4)\n",
      "Requirement already satisfied: jinja2>=2.4 in /usr/local/lib/python3.6/dist-packages (from nbconvert->jupyter) (2.11.2)\n",
      "Requirement already satisfied: nbclient<0.6.0,>=0.5.0 in /usr/local/lib/python3.6/dist-packages (from nbconvert->jupyter) (0.5.1)\n",
      "Requirement already satisfied: entrypoints>=0.2.2 in /usr/local/lib/python3.6/dist-packages (from nbconvert->jupyter) (0.3)\n",
      "Requirement already satisfied: defusedxml in /usr/local/lib/python3.6/dist-packages (from nbconvert->jupyter) (0.6.0)\n",
      "Requirement already satisfied: bleach in /usr/local/lib/python3.6/dist-packages (from nbconvert->jupyter) (3.2.2)\n",
      "Requirement already satisfied: pandocfilters>=1.4.1 in /usr/local/lib/python3.6/dist-packages (from nbconvert->jupyter) (1.4.3)\n",
      "Requirement already satisfied: jupyterlab-pygments in /usr/local/lib/python3.6/dist-packages (from nbconvert->jupyter) (0.1.2)\n",
      "Requirement already satisfied: Send2Trash>=1.5.0 in /usr/local/lib/python3.6/dist-packages (from notebook->jupyter) (1.5.0)\n",
      "Requirement already satisfied: terminado>=0.8.3 in /usr/local/lib/python3.6/dist-packages (from notebook->jupyter) (0.9.2)\n",
      "Requirement already satisfied: argon2-cffi in /usr/local/lib/python3.6/dist-packages (from notebook->jupyter) (20.1.0)\n",
      "Requirement already satisfied: prometheus-client in /usr/local/lib/python3.6/dist-packages (from notebook->jupyter) (0.9.0)\n",
      "Requirement already satisfied: jsonschema!=2.5.0,>=2.4 in /usr/local/lib/python3.6/dist-packages (from nbformat>=4.2.0->ipywidgets->jupyter) (3.2.0)\n",
      "Requirement already satisfied: MarkupSafe>=0.23 in /usr/local/lib/python3.6/dist-packages (from jinja2>=2.4->nbconvert->jupyter) (1.1.1)\n",
      "Requirement already satisfied: async-generator in /usr/local/lib/python3.6/dist-packages (from nbclient<0.6.0,>=0.5.0->nbconvert->jupyter) (1.10)\n",
      "Requirement already satisfied: nest-asyncio in /usr/local/lib/python3.6/dist-packages (from nbclient<0.6.0,>=0.5.0->nbconvert->jupyter) (1.4.3)\n",
      "Requirement already satisfied: webencodings in /usr/local/lib/python3.6/dist-packages (from bleach->nbconvert->jupyter) (0.5.1)\n",
      "Requirement already satisfied: packaging in /usr/local/lib/python3.6/dist-packages (from bleach->nbconvert->jupyter) (20.8)\n",
      "Requirement already satisfied: cffi>=1.0.0 in /usr/local/lib/python3.6/dist-packages (from argon2-cffi->notebook->jupyter) (1.14.4)\n",
      "Requirement already satisfied: importlib-metadata; python_version < \"3.8\" in /usr/local/lib/python3.6/dist-packages (from jsonschema!=2.5.0,>=2.4->nbformat>=4.2.0->ipywidgets->jupyter) (3.4.0)\n"
     ]
    },
    {
     "name": "stdout",
     "output_type": "stream",
     "text": [
      "Requirement already satisfied: attrs>=17.4.0 in /usr/local/lib/python3.6/dist-packages (from jsonschema!=2.5.0,>=2.4->nbformat>=4.2.0->ipywidgets->jupyter) (20.3.0)\n",
      "Requirement already satisfied: pyrsistent>=0.14.0 in /usr/local/lib/python3.6/dist-packages (from jsonschema!=2.5.0,>=2.4->nbformat>=4.2.0->ipywidgets->jupyter) (0.17.3)\n",
      "Requirement already satisfied: pycparser in /usr/local/lib/python3.6/dist-packages (from cffi>=1.0.0->argon2-cffi->notebook->jupyter) (2.20)\n",
      "Requirement already satisfied: typing-extensions>=3.6.4; python_version < \"3.8\" in /usr/local/lib/python3.6/dist-packages (from importlib-metadata; python_version < \"3.8\"->jsonschema!=2.5.0,>=2.4->nbformat>=4.2.0->ipywidgets->jupyter) (3.7.4.3)\n",
      "Requirement already satisfied: zipp>=0.5 in /usr/local/lib/python3.6/dist-packages (from importlib-metadata; python_version < \"3.8\"->jsonschema!=2.5.0,>=2.4->nbformat>=4.2.0->ipywidgets->jupyter) (3.4.0)\n",
      "\u001b[33mWARNING: You are using pip version 20.2.4; however, version 21.0.1 is available.\n",
      "You should consider upgrading via the '/usr/bin/python3 -m pip install --upgrade pip' command.\u001b[0m\n",
      "2.4.1\n",
      "WARNING:tensorflow:From /usr/local/lib/python3.6/dist-packages/tensorflow/python/compat/v2_compat.py:96: disable_resource_variables (from tensorflow.python.ops.variable_scope) is deprecated and will be removed in a future version.\n",
      "Instructions for updating:\n",
      "non-resource variables are not supported in the long term\n"
     ]
    }
   ],
   "source": [
    "import tensorflow as tf\n",
    "import numpy as np\n",
    "!pip install pandas\n",
    "import pandas as pd\n",
    "from matplotlib.pyplot import imshow, legend, show\n",
    "!pip install -q pyyaml h5py\n",
    "try:\n",
    "    from keras_lr_finder import LRFinder\n",
    "except Exception as error:\n",
    "    !pip install {str(error)[17:-1]}\n",
    "    from keras_lr_finder import LRFinder\n",
    "except:\n",
    "    print(\"Pacote não encontrado\")\n",
    "    \n",
    "!pip install --user numpy scipy matplotlib ipython jupyter pandas sympy nose\n",
    "    \n",
    "\n",
    "print(tf.version.VERSION)\n",
    "tf.compat.v1.disable_v2_behavior()"
   ]
  },
  {
   "cell_type": "code",
   "execution_count": 2,
   "metadata": {},
   "outputs": [],
   "source": [
    "lesions = {0: \"Basal Cell Carcinoma\", \n",
    "    1: \"Lentigo\",\n",
    "    2: \"Malignant Melanoma\", \n",
    "    3: \"Melanocytic naevus\",\n",
    "    4: \"seborrhoeic keratosis\",\n",
    "    5: \"Wart\", \n",
    "    6: \"Actinic Keratosis\",\n",
    "    7: \"Squamous Cell Carcinoma\",\n",
    "    8: \"Intraepithelial Carcinoma\", \n",
    "    9: \"Pyogenic Granuloma\",\n",
    "    10: \"Haemangioma\",\n",
    "    11: \"Dermatofibroma\"\n",
    "}"
   ]
  },
  {
   "cell_type": "code",
   "execution_count": 3,
   "metadata": {},
   "outputs": [
    {
     "name": "stdout",
     "output_type": "stream",
     "text": [
      "Found 53820 images belonging to 12 classes.\n"
     ]
    }
   ],
   "source": [
    "src_path_train = \"dataset-split/train/\"\n",
    "\n",
    "train_generator = tf.keras.preprocessing.image.ImageDataGenerator().flow_from_directory(\n",
    "    directory=src_path_train,\n",
    "    subset='training',\n",
    "    class_mode=\"sparse\",\n",
    "    color_mode=\"rgb\",\n",
    "    batch_size=18,\n",
    "    target_size=(224, 224),\n",
    "    shuffle=True,\n",
    "    seed=42\n",
    ")"
   ]
  },
  {
   "cell_type": "code",
   "execution_count": 4,
   "metadata": {},
   "outputs": [
    {
     "name": "stdout",
     "output_type": "stream",
     "text": [
      "Found 6570 images belonging to 12 classes.\n"
     ]
    }
   ],
   "source": [
    "src_path_val = \"dataset-split/val/\"\n",
    "val_generator = tf.keras.preprocessing.image.ImageDataGenerator().flow_from_directory(\n",
    "    directory=src_path_val,\n",
    "    target_size=(224, 224),\n",
    "    color_mode=\"rgb\",\n",
    "    batch_size=18,\n",
    "    class_mode=\"sparse\",\n",
    "    shuffle=True,\n",
    "    seed=42\n",
    ")"
   ]
  },
  {
   "cell_type": "code",
   "execution_count": 5,
   "metadata": {},
   "outputs": [
    {
     "name": "stdout",
     "output_type": "stream",
     "text": [
      "Found 7050 images belonging to 12 classes.\n"
     ]
    }
   ],
   "source": [
    "src_path_test = \"dataset-split/test/\"\n",
    "test_generator = tf.keras.preprocessing.image.ImageDataGenerator().flow_from_directory(\n",
    "    directory=src_path_test,\n",
    "    target_size=(224, 224),\n",
    "    color_mode=\"rgb\",\n",
    "    batch_size=1,\n",
    "    class_mode=None,\n",
    "    shuffle=False,\n",
    "    seed=42\n",
    ")"
   ]
  },
  {
   "cell_type": "code",
   "execution_count": 10,
   "metadata": {},
   "outputs": [],
   "source": [
    "# gpus = tf.config.experimental.list_physical_devices('GPU')\n",
    "# if gpus:\n",
    "#     for gpu in gpus:\n",
    "#         tf.config.experimental.set_memory_growth(gpu, True)"
   ]
  },
  {
   "cell_type": "code",
   "execution_count": 13,
   "metadata": {},
   "outputs": [],
   "source": [
    "# imshow(tf.cast(images_val[5], tf.uint8))"
   ]
  },
  {
   "cell_type": "code",
   "execution_count": 14,
   "metadata": {},
   "outputs": [
    {
     "name": "stdout",
     "output_type": "stream",
     "text": [
      "Epoch 1/25\n",
      "2990/2990 [==============================] - ETA: 0s - batch: 1494.5000 - size: 18.0000 - loss: 1.5534 - acc: 0.4578"
     ]
    },
    {
     "name": "stderr",
     "output_type": "stream",
     "text": [
      "/usr/local/lib/python3.6/dist-packages/tensorflow/python/keras/engine/training.py:2325: UserWarning: `Model.state_updates` will be removed in a future version. This property should not be used in TensorFlow 2.0, as `updates` are applied automatically.\n",
      "  warnings.warn('`Model.state_updates` will be removed in a future version. '\n"
     ]
    },
    {
     "name": "stdout",
     "output_type": "stream",
     "text": [
      "2990/2990 [==============================] - 1479s 490ms/step - batch: 1494.5000 - size: 18.0000 - loss: 1.5534 - acc: 0.4578 - val_loss: 1.9145 - val_acc: 0.3694\n",
      "Epoch 2/25\n",
      "2990/2990 [==============================] - 1465s 490ms/step - batch: 1494.5000 - size: 18.0000 - loss: 1.1817 - acc: 0.5730 - val_loss: 1.7673 - val_acc: 0.4364\n",
      "Epoch 3/25\n",
      "2990/2990 [==============================] - 1466s 490ms/step - batch: 1494.5000 - size: 18.0000 - loss: 0.9769 - acc: 0.6462 - val_loss: 1.3096 - val_acc: 0.5545\n",
      "Epoch 4/25\n",
      "2990/2990 [==============================] - 1466s 490ms/step - batch: 1494.5000 - size: 18.0000 - loss: 0.7386 - acc: 0.7270 - val_loss: 1.3270 - val_acc: 0.5533\n",
      "Epoch 5/25\n",
      "2990/2990 [==============================] - 1531s 512ms/step - batch: 1494.5000 - size: 18.0000 - loss: 0.5214 - acc: 0.8088 - val_loss: 2.1445 - val_acc: 0.5122\n",
      "Epoch 6/25\n",
      "2990/2990 [==============================] - 1539s 515ms/step - batch: 1494.5000 - size: 18.0000 - loss: 0.3464 - acc: 0.8740 - val_loss: 1.6945 - val_acc: 0.6172\n",
      "Epoch 7/25\n",
      "2990/2990 [==============================] - 1540s 515ms/step - batch: 1494.5000 - size: 18.0000 - loss: 0.2489 - acc: 0.9086 - val_loss: 1.4144 - val_acc: 0.6409\n",
      "Epoch 8/25\n",
      "2990/2990 [==============================] - 1623s 543ms/step - batch: 1494.5000 - size: 18.0000 - loss: 0.1828 - acc: 0.9345 - val_loss: 1.7572 - val_acc: 0.6160\n",
      "Epoch 9/25\n",
      "2990/2990 [==============================] - 1612s 539ms/step - batch: 1494.5000 - size: 18.0000 - loss: 0.1427 - acc: 0.9496 - val_loss: 1.9902 - val_acc: 0.6073\n",
      "Epoch 10/25\n",
      "2990/2990 [==============================] - 1550s 518ms/step - batch: 1494.5000 - size: 18.0000 - loss: 0.1213 - acc: 0.9575 - val_loss: 1.9873 - val_acc: 0.6068\n",
      "Epoch 11/25\n",
      "2990/2990 [==============================] - 1538s 514ms/step - batch: 1494.5000 - size: 18.0000 - loss: 0.1018 - acc: 0.9651 - val_loss: 1.8594 - val_acc: 0.6616\n",
      "Epoch 12/25\n",
      "2990/2990 [==============================] - 1541s 515ms/step - batch: 1494.5000 - size: 18.0000 - loss: 0.0882 - acc: 0.9699 - val_loss: 1.9312 - val_acc: 0.6390\n",
      "Epoch 13/25\n",
      "2990/2990 [==============================] - 1500s 502ms/step - batch: 1494.5000 - size: 18.0000 - loss: 0.0708 - acc: 0.9748 - val_loss: 2.3393 - val_acc: 0.5837\n",
      "Epoch 14/25\n",
      "2990/2990 [==============================] - 1577s 527ms/step - batch: 1494.5000 - size: 18.0000 - loss: 0.0666 - acc: 0.9775 - val_loss: 2.1818 - val_acc: 0.6231\n",
      "Epoch 15/25\n",
      "2990/2990 [==============================] - 1501s 502ms/step - batch: 1494.5000 - size: 18.0000 - loss: 0.0610 - acc: 0.9791 - val_loss: 2.0318 - val_acc: 0.6374\n",
      "Epoch 16/25\n",
      "2990/2990 [==============================] - 1529s 511ms/step - batch: 1494.5000 - size: 18.0000 - loss: 0.0542 - acc: 0.9810 - val_loss: 1.9824 - val_acc: 0.6642\n",
      "Epoch 17/25\n",
      "2990/2990 [==============================] - 1517s 507ms/step - batch: 1494.5000 - size: 18.0000 - loss: 0.0517 - acc: 0.9822 - val_loss: 2.0919 - val_acc: 0.6548\n",
      "Epoch 18/25\n",
      "2990/2990 [==============================] - 1488s 498ms/step - batch: 1494.5000 - size: 18.0000 - loss: 0.0442 - acc: 0.9856 - val_loss: 2.0281 - val_acc: 0.6578\n",
      "Epoch 19/25\n",
      "2990/2990 [==============================] - 1513s 506ms/step - batch: 1494.5000 - size: 18.0000 - loss: 0.0422 - acc: 0.9858 - val_loss: 2.0201 - val_acc: 0.6726\n",
      "Epoch 20/25\n",
      "2990/2990 [==============================] - 1645s 550ms/step - batch: 1494.5000 - size: 18.0000 - loss: 0.0396 - acc: 0.9865 - val_loss: 1.9471 - val_acc: 0.6658\n",
      "Epoch 21/25\n",
      "2990/2990 [==============================] - 1670s 558ms/step - batch: 1494.5000 - size: 18.0000 - loss: 0.0382 - acc: 0.9870 - val_loss: 2.0418 - val_acc: 0.6466\n",
      "Epoch 22/25\n",
      "2990/2990 [==============================] - 2252s 753ms/step - batch: 1494.5000 - size: 18.0000 - loss: 0.0338 - acc: 0.9882 - val_loss: 2.2467 - val_acc: 0.6387\n",
      "Epoch 23/25\n",
      "2990/2990 [==============================] - 1646s 550ms/step - batch: 1494.5000 - size: 18.0000 - loss: 0.0352 - acc: 0.9883 - val_loss: 1.9549 - val_acc: 0.6592\n",
      "Epoch 24/25\n",
      "2990/2990 [==============================] - 1476s 494ms/step - batch: 1494.5000 - size: 18.0000 - loss: 0.0314 - acc: 0.9902 - val_loss: 2.5071 - val_acc: 0.5970\n",
      "Epoch 25/25\n",
      "2990/2990 [==============================] - 1505s 503ms/step - batch: 1494.5000 - size: 18.0000 - loss: 0.0281 - acc: 0.9902 - val_loss: 2.3973 - val_acc: 0.6492\n"
     ]
    }
   ],
   "source": [
    "model = tf.keras.applications.ResNet152(weights=None)\n",
    "opt = tf.keras.optimizers.Adam(learning_rate=0.01)\n",
    "model.compile(optimizer='adam',\n",
    "              loss='sparse_categorical_crossentropy',\n",
    "              metrics=['accuracy'])\n",
    "\n",
    "# model.summary()\n",
    "# lr_finder = LRFinder(model)\n",
    "# lr_finder.find(x, y, start_lr=0.006, end_lr=1, batch_size=28, epochs=25)\n",
    "history = model.fit(train_generator,\n",
    "                    validation_data = val_generator,\n",
    "                    epochs=25)"
   ]
  },
  {
   "cell_type": "code",
   "execution_count": 18,
   "metadata": {},
   "outputs": [],
   "source": [
    "model.save('model/tensorflow-model')"
   ]
  },
  {
   "cell_type": "code",
   "execution_count": 21,
   "metadata": {
    "scrolled": true
   },
   "outputs": [
    {
     "data": {
      "text/plain": [
       "{'loss': [1.553431851628632,\n",
       "  1.1816693187756682,\n",
       "  0.9769060261971177,\n",
       "  0.7385901916037036,\n",
       "  0.5213720694657752,\n",
       "  0.34641660028090543,\n",
       "  0.24885993475081977,\n",
       "  0.18278067368020406,\n",
       "  0.1427065636033471,\n",
       "  0.12129149270433945,\n",
       "  0.10179047954711054,\n",
       "  0.08823535044684953,\n",
       "  0.07083991220030678,\n",
       "  0.06658145005925914,\n",
       "  0.06101799506135022,\n",
       "  0.054152448650361035,\n",
       "  0.05165775707149483,\n",
       "  0.044204342826035595,\n",
       "  0.04224004277638959,\n",
       "  0.039610312216556066,\n",
       "  0.038159310946597254,\n",
       "  0.03382597450749151,\n",
       "  0.03521382619575742,\n",
       "  0.03135573911570533,\n",
       "  0.02814603806822816],\n",
       " 'acc': [0.45776662,\n",
       "  0.57296544,\n",
       "  0.64615387,\n",
       "  0.72697884,\n",
       "  0.80882573,\n",
       "  0.8739874,\n",
       "  0.9086213,\n",
       "  0.9345039,\n",
       "  0.9496098,\n",
       "  0.9575251,\n",
       "  0.9651245,\n",
       "  0.96988106,\n",
       "  0.9748235,\n",
       "  0.97753626,\n",
       "  0.979097,\n",
       "  0.9810479,\n",
       "  0.9821999,\n",
       "  0.9855816,\n",
       "  0.98580456,\n",
       "  0.98645484,\n",
       "  0.9869937,\n",
       "  0.98820144,\n",
       "  0.9883129,\n",
       "  0.9902267,\n",
       "  0.9902267],\n",
       " 'val_loss': [1.9145286808275197,\n",
       "  1.7673362942591107,\n",
       "  1.309640180738005,\n",
       "  1.3269890882381021,\n",
       "  2.144520273110638,\n",
       "  1.6944972676365342,\n",
       "  1.4144407669975334,\n",
       "  1.7572224551684237,\n",
       "  1.9902253595933521,\n",
       "  1.9873408901364835,\n",
       "  1.8594493587947871,\n",
       "  1.9312015466902355,\n",
       "  2.339271739737628,\n",
       "  2.1818022944339335,\n",
       "  2.031764040009616,\n",
       "  1.9823941145245343,\n",
       "  2.0918884608435304,\n",
       "  2.0280764779815934,\n",
       "  2.0200688995114744,\n",
       "  1.9470569139474059,\n",
       "  2.041768933077381,\n",
       "  2.246657141838988,\n",
       "  1.954850275059269,\n",
       "  2.5071409797015254,\n",
       "  2.3972935440605636],\n",
       " 'val_acc': [0.3694064,\n",
       "  0.43637747,\n",
       "  0.5544901,\n",
       "  0.5532724,\n",
       "  0.5121766,\n",
       "  0.6171994,\n",
       "  0.6409437,\n",
       "  0.61598176,\n",
       "  0.60730594,\n",
       "  0.6068493,\n",
       "  0.66164386,\n",
       "  0.638965,\n",
       "  0.5837138,\n",
       "  0.62313545,\n",
       "  0.63744295,\n",
       "  0.66423136,\n",
       "  0.6547945,\n",
       "  0.65783864,\n",
       "  0.6726027,\n",
       "  0.6657534,\n",
       "  0.64657533,\n",
       "  0.63866055,\n",
       "  0.65920854,\n",
       "  0.59695584,\n",
       "  0.6491629]}"
      ]
     },
     "execution_count": 21,
     "metadata": {},
     "output_type": "execute_result"
    }
   ],
   "source": [
    "history.history"
   ]
  },
  {
   "cell_type": "code",
   "execution_count": 22,
   "metadata": {},
   "outputs": [
    {
     "data": {
      "text/plain": [
       "['loss', 'acc']"
      ]
     },
     "execution_count": 22,
     "metadata": {},
     "output_type": "execute_result"
    }
   ],
   "source": [
    "model.metrics_names"
   ]
  },
  {
   "cell_type": "code",
   "execution_count": 23,
   "metadata": {},
   "outputs": [],
   "source": [
    "model.save_weights('model/tensorflow-model-weights')"
   ]
  },
  {
   "cell_type": "code",
   "execution_count": 24,
   "metadata": {},
   "outputs": [
    {
     "name": "stdout",
     "output_type": "stream",
     "text": [
      "Collecting shap\n",
      "  Downloading shap-0.39.0.tar.gz (356 kB)\n",
      "\u001b[K     |████████████████████████████████| 356 kB 3.1 MB/s eta 0:00:01\n",
      "\u001b[?25hRequirement already satisfied: numpy in /usr/local/lib/python3.6/dist-packages (from shap) (1.19.5)\n",
      "Requirement already satisfied: scipy in /usr/local/lib/python3.6/dist-packages (from shap) (1.5.4)\n",
      "Collecting scikit-learn\n",
      "  Downloading scikit_learn-0.24.1-cp36-cp36m-manylinux2010_x86_64.whl (22.2 MB)\n",
      "\u001b[K     |████████████████████████████████| 22.2 MB 21.7 MB/s eta 0:00:01\n",
      "\u001b[?25hRequirement already satisfied: pandas in /usr/local/lib/python3.6/dist-packages (from shap) (1.1.5)\n",
      "Collecting tqdm>4.25.0\n",
      "  Downloading tqdm-4.59.0-py2.py3-none-any.whl (74 kB)\n",
      "\u001b[K     |████████████████████████████████| 74 kB 5.9 MB/s  eta 0:00:01\n",
      "\u001b[?25hCollecting slicer==0.0.7\n",
      "  Downloading slicer-0.0.7-py3-none-any.whl (14 kB)\n",
      "Collecting numba\n",
      "  Downloading numba-0.53.1-cp36-cp36m-manylinux2014_x86_64.whl (3.4 MB)\n",
      "\u001b[K     |████████████████████████████████| 3.4 MB 64.5 MB/s eta 0:00:01\n",
      "\u001b[?25hCollecting cloudpickle\n",
      "  Downloading cloudpickle-1.6.0-py3-none-any.whl (23 kB)\n",
      "Collecting joblib>=0.11\n",
      "  Downloading joblib-1.0.1-py3-none-any.whl (303 kB)\n",
      "\u001b[K     |████████████████████████████████| 303 kB 58.3 MB/s eta 0:00:01\n",
      "\u001b[?25hCollecting threadpoolctl>=2.0.0\n",
      "  Downloading threadpoolctl-2.1.0-py3-none-any.whl (12 kB)\n",
      "Requirement already satisfied: pytz>=2017.2 in /usr/local/lib/python3.6/dist-packages (from pandas->shap) (2021.1)\n",
      "Requirement already satisfied: python-dateutil>=2.7.3 in /usr/local/lib/python3.6/dist-packages (from pandas->shap) (2.8.1)\n",
      "Collecting llvmlite<0.37,>=0.36.0rc1\n",
      "  Downloading llvmlite-0.36.0-cp36-cp36m-manylinux2010_x86_64.whl (25.3 MB)\n",
      "\u001b[K     |████████████████████████████████| 25.3 MB 24.9 MB/s eta 0:00:01     |██████████████████              | 14.3 MB 24.9 MB/s eta 0:00:01\n",
      "\u001b[?25hRequirement already satisfied: setuptools in /usr/local/lib/python3.6/dist-packages (from numba->shap) (51.3.3)\n",
      "Requirement already satisfied: six>=1.5 in /usr/local/lib/python3.6/dist-packages (from python-dateutil>=2.7.3->pandas->shap) (1.15.0)\n",
      "Building wheels for collected packages: shap\n",
      "  Building wheel for shap (setup.py) ... \u001b[?25ldone\n",
      "\u001b[?25h  Created wheel for shap: filename=shap-0.39.0-cp36-cp36m-linux_x86_64.whl size=490528 sha256=1728012fff2744fc87582e9dd973611b0ae2ff5659ee7201c89edc614ceff0e1\n",
      "  Stored in directory: /root/.cache/pip/wheels/6f/08/25/2992725334291786ea084e06cac493d93049b80e3470318a1b\n",
      "Successfully built shap\n",
      "Installing collected packages: joblib, threadpoolctl, scikit-learn, tqdm, slicer, llvmlite, numba, cloudpickle, shap\n",
      "Successfully installed cloudpickle-1.6.0 joblib-1.0.1 llvmlite-0.36.0 numba-0.53.1 scikit-learn-0.24.1 shap-0.39.0 slicer-0.0.7 threadpoolctl-2.1.0 tqdm-4.59.0\n",
      "\u001b[33mWARNING: You are using pip version 20.2.4; however, version 21.0.1 is available.\n",
      "You should consider upgrading via the '/usr/bin/python3 -m pip install --upgrade pip' command.\u001b[0m\n"
     ]
    }
   ],
   "source": [
    "\n",
    "try:\n",
    "    import shap\n",
    "except Exception as error:\n",
    "    !pip install {str(error)[17:-1]}\n",
    "    import shap\n",
    "except:\n",
    "    print(\"Pacote não encontrado\")"
   ]
  },
  {
   "cell_type": "code",
   "execution_count": 41,
   "metadata": {},
   "outputs": [
    {
     "name": "stdout",
     "output_type": "stream",
     "text": [
      "                                                  id  label\n",
      "0  dataset-split/test/Wart/Wart_original_51.jpg_3...      5\n",
      "1  dataset-split/test/Wart/Wart_original_74.jpg_c...      5\n",
      "2  dataset-split/test/Wart/Wart_original_91.jpg_a...      5\n",
      "3  dataset-split/test/Wart/Wart_original_80.jpg_0...      5\n",
      "4  dataset-split/test/Wart/Wart_original_91.jpg_6...      5\n",
      "dataset-split/test/Wart/Wart_original_51.jpg_32713ec0-0bd9-40bb-af39-a90afdee1428.jpg\n",
      "dataset-split/test/Wart/Wart_original_74.jpg_c0649757-4964-45a5-84c8-2abc3b8fbc6e.jpg\n",
      "dataset-split/test/Wart/Wart_original_91.jpg_a6f20c76-d9a6-425d-9e21-09e173c84596.jpg\n",
      "dataset-split/test/Wart/Wart_original_80.jpg_07273f60-d5b8-4020-adcf-20d9665557ca.jpg\n",
      "dataset-split/test/Wart/Wart_original_91.jpg_6a6dd127-6933-4137-8c81-110f1162b287.jpg\n"
     ]
    }
   ],
   "source": [
    "from PIL import Image\n",
    "from numpy import asarray\n",
    "import pandas as pd\n",
    "test = pd.read_csv('test.csv',index_col=0)\n",
    "print(test.head())\n",
    "df_test = pd.DataFrame(test)\n",
    "test_dataset_filenames = df_test['id'].values.tolist()\n",
    "test_dataset_filenames = test_dataset_filenames[:5]\n",
    "\n",
    "numpy_images = []\n",
    "for image in test_dataset_filenames:\n",
    "    print(image)\n",
    "    image = Image.open(image)\n",
    "    image = asarray(image)\n",
    "    numpy_images.append(image)\n",
    "    \n",
    "x = asarray(numpy_images)"
   ]
  },
  {
   "cell_type": "code",
   "execution_count": null,
   "metadata": {},
   "outputs": [],
   "source": [
    "print(x.shape[0])\n",
    "background = x[np.random.choice(x.shape[0], 100)]\n",
    "print(background)\n",
    "\n",
    "# explain predictions of the model on four images\n",
    "tf.compat.v1.disable_v2_behavior()\n",
    "e = shap.DeepExplainer(model, background)\n",
    "# ...or pass tensors directly\n",
    "# e = shap.DeepExplainer((model.layers[0].input, model.layers[-1].output), background)\n",
    "shap_values = e.shap_values(x)\n",
    "\n",
    "# plot the feature attributions\n",
    "shap.image_plot(shap_values, -x)"
   ]
  },
  {
   "cell_type": "code",
   "execution_count": null,
   "metadata": {},
   "outputs": [],
   "source": []
  }
 ],
 "metadata": {
  "kernelspec": {
   "display_name": "Python 3",
   "language": "python",
   "name": "python3"
  },
  "language_info": {
   "codemirror_mode": {
    "name": "ipython",
    "version": 3
   },
   "file_extension": ".py",
   "mimetype": "text/x-python",
   "name": "python",
   "nbconvert_exporter": "python",
   "pygments_lexer": "ipython3",
   "version": "3.6.9"
  }
 },
 "nbformat": 4,
 "nbformat_minor": 2
}
