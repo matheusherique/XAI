{
 "cells": [
  {
   "cell_type": "code",
   "execution_count": 2,
   "metadata": {},
   "outputs": [
    {
     "name": "stdout",
     "output_type": "stream",
     "text": [
      "Collecting pandas\n",
      "  Downloading pandas-1.1.5-cp36-cp36m-manylinux1_x86_64.whl (9.5 MB)\n",
      "\u001b[K     |████████████████████████████████| 9.5 MB 1.1 MB/s eta 0:00:01\n",
      "\u001b[?25hCollecting pytz>=2017.2\n",
      "  Downloading pytz-2021.1-py2.py3-none-any.whl (510 kB)\n",
      "\u001b[K     |████████████████████████████████| 510 kB 1.0 MB/s eta 0:00:01\n",
      "\u001b[?25hRequirement already satisfied: numpy>=1.15.4 in /usr/local/lib/python3.6/dist-packages (from pandas) (1.19.5)\n",
      "Requirement already satisfied: python-dateutil>=2.7.3 in /usr/local/lib/python3.6/dist-packages (from pandas) (2.8.1)\n",
      "Requirement already satisfied: six>=1.5 in /usr/local/lib/python3.6/dist-packages (from python-dateutil>=2.7.3->pandas) (1.15.0)\n",
      "Installing collected packages: pytz, pandas\n",
      "Successfully installed pandas-1.1.5 pytz-2021.1\n",
      "\u001b[33mWARNING: You are using pip version 20.2.4; however, version 21.0.1 is available.\n",
      "You should consider upgrading via the '/usr/bin/python3 -m pip install --upgrade pip' command.\u001b[0m\n"
     ]
    }
   ],
   "source": [
    "import tensorflow as tf\n",
    "import numpy as np\n",
    "!pip install pandas\n",
    "import pandas as pd"
   ]
  },
  {
   "cell_type": "code",
   "execution_count": 3,
   "metadata": {},
   "outputs": [],
   "source": [
    "lesions = {0: \"Basal Cell Carcinoma\", \n",
    "    1: \"Lentigo\",\n",
    "    2: \"Malignant Melanoma\", \n",
    "    3: \"Melanocytic naevus\",\n",
    "    4: \"seborrhoeic keratosis\",\n",
    "    5: \"Wart\", \n",
    "    6: \"Actinic Keratosis\",\n",
    "    7: \"Squamous Cell Carcinoma\",\n",
    "    8: \"Intraepithelial Carcinoma\", \n",
    "    9: \"Pyogenic Granuloma\",\n",
    "    10: \"Haemangioma\",\n",
    "    11: \"Dermatofibroma\"\n",
    "}"
   ]
  },
  {
   "cell_type": "code",
   "execution_count": 4,
   "metadata": {},
   "outputs": [
    {
     "data": {
      "text/html": [
       "<div>\n",
       "<style scoped>\n",
       "    .dataframe tbody tr th:only-of-type {\n",
       "        vertical-align: middle;\n",
       "    }\n",
       "\n",
       "    .dataframe tbody tr th {\n",
       "        vertical-align: top;\n",
       "    }\n",
       "\n",
       "    .dataframe thead th {\n",
       "        text-align: right;\n",
       "    }\n",
       "</style>\n",
       "<table border=\"1\" class=\"dataframe\">\n",
       "  <thead>\n",
       "    <tr style=\"text-align: right;\">\n",
       "      <th></th>\n",
       "      <th>id</th>\n",
       "      <th>label</th>\n",
       "    </tr>\n",
       "  </thead>\n",
       "  <tbody>\n",
       "    <tr>\n",
       "      <th>0</th>\n",
       "      <td>dataset-split/train/Wart/Wart_original_100.jpg...</td>\n",
       "      <td>5</td>\n",
       "    </tr>\n",
       "    <tr>\n",
       "      <th>1</th>\n",
       "      <td>dataset-split/train/Wart/Wart_original_37.jpg_...</td>\n",
       "      <td>5</td>\n",
       "    </tr>\n",
       "    <tr>\n",
       "      <th>2</th>\n",
       "      <td>dataset-split/train/Wart/Wart_original_2.jpg_4...</td>\n",
       "      <td>5</td>\n",
       "    </tr>\n",
       "    <tr>\n",
       "      <th>3</th>\n",
       "      <td>dataset-split/train/Wart/Wart_original_21.jpg_...</td>\n",
       "      <td>5</td>\n",
       "    </tr>\n",
       "    <tr>\n",
       "      <th>4</th>\n",
       "      <td>dataset-split/train/Wart/Wart_original_54.jpg_...</td>\n",
       "      <td>5</td>\n",
       "    </tr>\n",
       "  </tbody>\n",
       "</table>\n",
       "</div>"
      ],
      "text/plain": [
       "                                                  id  label\n",
       "0  dataset-split/train/Wart/Wart_original_100.jpg...      5\n",
       "1  dataset-split/train/Wart/Wart_original_37.jpg_...      5\n",
       "2  dataset-split/train/Wart/Wart_original_2.jpg_4...      5\n",
       "3  dataset-split/train/Wart/Wart_original_21.jpg_...      5\n",
       "4  dataset-split/train/Wart/Wart_original_54.jpg_...      5"
      ]
     },
     "execution_count": 4,
     "metadata": {},
     "output_type": "execute_result"
    }
   ],
   "source": [
    "train = pd.read_csv('train.csv',index_col=0)\n",
    "test = pd.read_csv('test.csv',index_col=0)\n",
    "val = pd.read_csv('val.csv',index_col=0)\n",
    "\n",
    "train_y = train['label'].values\n",
    "test_y = test['label'].values\n",
    "val_y = val['label'].values\n",
    "\n",
    "train.head()"
   ]
  },
  {
   "cell_type": "code",
   "execution_count": 5,
   "metadata": {},
   "outputs": [],
   "source": [
    "df_train = pd.DataFrame(train)\n",
    "df_test = pd.DataFrame(test)\n",
    "df_val = pd.DataFrame(val)"
   ]
  },
  {
   "cell_type": "code",
   "execution_count": 6,
   "metadata": {},
   "outputs": [],
   "source": [
    "# step 1\n",
    "train_dataset_filenames = df_train['id'].values.tolist()\n",
    "train_dataset_labels = df_train['label'].values.tolist()\n",
    "filenames = tf.constant(train_dataset_filenames)\n",
    "labels = tf.constant(train_dataset_labels)\n",
    "\n",
    "# step 2: create a dataset returning slices of `filenames`\n",
    "train_dataset = tf.data.Dataset.from_tensor_slices((filenames, labels))\n",
    "\n",
    "# step 3: parse every image in the dataset using `map`\n",
    "def _parse_function(filename, label):\n",
    "    image_string = tf.io.read_file(filename)\n",
    "    image_decoded = tf.image.decode_jpeg(image_string, channels=3)\n",
    "    image = tf.cast(image_decoded, tf.float32)\n",
    "    return image, label\n",
    "\n",
    "train_dataset = train_dataset.map(_parse_function)\n",
    "train_dataset = train_dataset.batch(32)\n",
    "\n",
    "# step 4: create iterator and final input tensor\n",
    "iterator_train = tf.compat.v1.data.make_one_shot_iterator(train_dataset)\n",
    "images_train, labels_train = iterator_train.get_next()"
   ]
  },
  {
   "cell_type": "code",
   "execution_count": 7,
   "metadata": {},
   "outputs": [],
   "source": [
    "# step 1\n",
    "val_dataset_filenames = df_val['id'].values.tolist()\n",
    "val_dataset_labels = df_val['label'].values.tolist()\n",
    "filenames = tf.constant(val_dataset_filenames)\n",
    "labels = tf.constant(val_dataset_labels)\n",
    "\n",
    "# step 2: create a dataset returning slices of `filenames`\n",
    "val_dataset = tf.data.Dataset.from_tensor_slices((filenames, labels))\n",
    "\n",
    "# step 3: parse every image in the dataset using `map`\n",
    "def _parse_function(filename, label):\n",
    "    image_string = tf.io.read_file(filename)\n",
    "    image_decoded = tf.image.decode_jpeg(image_string, channels=3)\n",
    "    image = tf.cast(image_decoded, tf.float32)\n",
    "    return image, label\n",
    "\n",
    "val_dataset = val_dataset.map(_parse_function)\n",
    "val_dataset = val_dataset.batch(32)\n",
    "\n",
    "# step 4: create iterator and final input tensor\n",
    "iterator_val = tf.compat.v1.data.make_one_shot_iterator(val_dataset)\n",
    "images_val, labels_val = iterator_val.get_next()"
   ]
  },
  {
   "cell_type": "code",
   "execution_count": 8,
   "metadata": {},
   "outputs": [
    {
     "name": "stdout",
     "output_type": "stream",
     "text": [
      "Num GPUs Available:  1\n"
     ]
    }
   ],
   "source": [
    "gpus = tf.config.experimental.list_physical_devices('GPU')\n",
    "if gpus:\n",
    "    for gpu in gpus:\n",
    "        tf.config.experimental.set_memory_growth(gpu, True)"
   ]
  },
  {
   "cell_type": "code",
   "execution_count": null,
   "metadata": {},
   "outputs": [],
   "source": []
  }
 ],
 "metadata": {
  "kernelspec": {
   "display_name": "Python 3",
   "language": "python",
   "name": "python3"
  },
  "language_info": {
   "codemirror_mode": {
    "name": "ipython",
    "version": 3
   },
   "file_extension": ".py",
   "mimetype": "text/x-python",
   "name": "python",
   "nbconvert_exporter": "python",
   "pygments_lexer": "ipython3",
   "version": "3.6.9"
  }
 },
 "nbformat": 4,
 "nbformat_minor": 2
}
